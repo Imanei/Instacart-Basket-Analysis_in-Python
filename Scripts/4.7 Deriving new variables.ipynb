{
 "cells": [
  {
   "cell_type": "markdown",
   "id": "ed3ef2b4-0636-4ccf-ac47-4139b3a8e5a0",
   "metadata": {},
   "source": [
    "# Deriving new variables "
   ]
  },
  {
   "cell_type": "markdown",
   "id": "a2978af3-abe0-40d6-9ec4-e4ba9d40066a",
   "metadata": {},
   "source": [
    "### This script contains the following points:\n",
    "#### 1. Importing dataset\n",
    "#### 2. Creating 'price_label' column\n",
    "#### 3. Creating 'busiest_day' column \n",
    "#### 4. Update 'busiest_day' to 'busiest_days'\n",
    "#### 5. Creating new column 'busiest_period_of_day'\n",
    "#### 6 Exporting the updated dataframe"
   ]
  },
  {
   "cell_type": "code",
   "execution_count": 1,
   "id": "feb384e2-e539-4bfa-b7c9-f1d17dde83c3",
   "metadata": {},
   "outputs": [],
   "source": [
    "# Import libraries\n",
    "import pandas as pd\n",
    "import numpy as np\n",
    "import os"
   ]
  },
  {
   "cell_type": "markdown",
   "id": "6431f0f5-fe68-4846-8cb9-9e456c9d153f",
   "metadata": {},
   "source": [
    "# 1. Importing dataset "
   ]
  },
  {
   "cell_type": "code",
   "execution_count": 6,
   "id": "8eb1fd7b-109b-46f3-b506-c583ed33dfad",
   "metadata": {},
   "outputs": [],
   "source": [
    "# Project folder path \n",
    "path = r'C:\\Users\\hp\\08-2024 Instacart Basket Analysis\\Data'\n",
    "# Import orders products merged\n",
    "df_ords_prods = pd.read_pickle(os.path.join(path, 'Prepared Data', 'orders_products_merged.pkl'))"
   ]
  },
  {
   "cell_type": "markdown",
   "id": "93a89e71-9e54-47b7-9bff-ac0c066205c2",
   "metadata": {},
   "source": [
    "# 2. Creating 'price_label' column "
   ]
  },
  {
   "cell_type": "code",
   "execution_count": 12,
   "id": "e3306b9f-9dbe-416f-9971-3c8bb404b4b1",
   "metadata": {},
   "outputs": [],
   "source": [
    "# Creating sub set first million rows\n",
    "df = df_ords_prods[:1000000]"
   ]
  },
  {
   "cell_type": "code",
   "execution_count": 16,
   "id": "37d3c640-62fe-4ff8-aaf6-4b7596602bcf",
   "metadata": {},
   "outputs": [
    {
     "data": {
      "text/plain": [
       "(1000000, 14)"
      ]
     },
     "execution_count": 16,
     "metadata": {},
     "output_type": "execute_result"
    }
   ],
   "source": [
    "df.shape"
   ]
  },
  {
   "cell_type": "code",
   "execution_count": 49,
   "id": "45f88eda-e2ed-4109-a6c0-86e3d096a0bd",
   "metadata": {},
   "outputs": [],
   "source": [
    "#defining price_label column\n",
    "def price_label(row):\n",
    "\n",
    "  if row['prices'] <= 5:\n",
    "    return 'Low-range product'\n",
    "  elif (row['prices'] > 5) and (row['prices'] <= 15):\n",
    "    return 'Mid-range product'\n",
    "  elif row['prices'] > 15:\n",
    "    return 'High range'\n",
    "  else: return 'Not enough data'"
   ]
  },
  {
   "cell_type": "code",
   "execution_count": 18,
   "id": "ee591bde-7974-437f-885a-dd07d0829ce5",
   "metadata": {},
   "outputs": [
    {
     "name": "stderr",
     "output_type": "stream",
     "text": [
      "C:\\Users\\hp\\AppData\\Local\\Temp\\ipykernel_23988\\3222661688.py:2: SettingWithCopyWarning: \n",
      "A value is trying to be set on a copy of a slice from a DataFrame.\n",
      "Try using .loc[row_indexer,col_indexer] = value instead\n",
      "\n",
      "See the caveats in the documentation: https://pandas.pydata.org/pandas-docs/stable/user_guide/indexing.html#returning-a-view-versus-a-copy\n",
      "  df['price_range'] = df.apply(price_label, axis=1)\n"
     ]
    }
   ],
   "source": [
    "#Apply the function \n",
    "df['price_range'] = df.apply(price_label, axis=1)"
   ]
  },
  {
   "cell_type": "code",
   "execution_count": 20,
   "id": "4d27d831-8e7d-4c2a-8fa5-b827c3c675c9",
   "metadata": {},
   "outputs": [
    {
     "data": {
      "text/plain": [
       "price_range\n",
       "Mid-range product    652638\n",
       "Low-range product    338018\n",
       "High range             9344\n",
       "Name: count, dtype: int64"
      ]
     },
     "execution_count": 20,
     "metadata": {},
     "output_type": "execute_result"
    }
   ],
   "source": [
    "df['price_range'].value_counts(dropna=False)"
   ]
  },
  {
   "cell_type": "markdown",
   "id": "68a49bf3-c399-432e-8ef6-be7c9fd7733f",
   "metadata": {},
   "source": [
    "#### Now that we've tested the new column, we will apply another methode 'loc()' on the whole data to avoid the warning message we've received above"
   ]
  },
  {
   "cell_type": "code",
   "execution_count": 22,
   "id": "fb262058-33db-46b5-854e-f479655910d2",
   "metadata": {},
   "outputs": [],
   "source": [
    "#loc in the entire data \n",
    "df_ords_prods.loc[df_ords_prods['prices'] > 15, 'price_range_loc'] = 'High-range product'"
   ]
  },
  {
   "cell_type": "code",
   "execution_count": 24,
   "id": "ef6897be-c535-489c-87a2-8b600a1a76a0",
   "metadata": {},
   "outputs": [],
   "source": [
    "df_ords_prods.loc[(df_ords_prods['prices'] <= 15) & (df_ords_prods['prices'] > 5), 'price_range_loc'] = 'Mid-range product' "
   ]
  },
  {
   "cell_type": "code",
   "execution_count": 26,
   "id": "5c0df559-5291-405d-9e0c-750f72d29511",
   "metadata": {},
   "outputs": [],
   "source": [
    "df_ords_prods.loc[df_ords_prods['prices'] <= 5, 'price_range_loc'] = 'Low-range product'"
   ]
  },
  {
   "cell_type": "code",
   "execution_count": 28,
   "id": "122f2608-8805-4695-b9c1-86e69cbb5372",
   "metadata": {},
   "outputs": [
    {
     "data": {
      "text/plain": [
       "price_range_loc\n",
       "Mid-range product     21860860\n",
       "Low-range product     10126321\n",
       "High-range product      416980\n",
       "Name: count, dtype: int64"
      ]
     },
     "execution_count": 28,
     "metadata": {},
     "output_type": "execute_result"
    }
   ],
   "source": [
    "df_ords_prods['price_range_loc'].value_counts(dropna=False)"
   ]
  },
  {
   "cell_type": "markdown",
   "id": "2f08fef4-04d9-4af7-a530-bbdcb4093128",
   "metadata": {},
   "source": [
    "# 3. Creating 'busiest_day' column "
   ]
  },
  {
   "cell_type": "code",
   "execution_count": 36,
   "id": "e11d2284-032f-4775-ab05-f11917b0fe01",
   "metadata": {},
   "outputs": [
    {
     "data": {
      "text/plain": [
       "order_dow\n",
       "0    6204090\n",
       "1    5660099\n",
       "6    4496415\n",
       "2    4213729\n",
       "5    4205663\n",
       "3    3840449\n",
       "4    3783716\n",
       "Name: count, dtype: int64"
      ]
     },
     "execution_count": 36,
     "metadata": {},
     "output_type": "execute_result"
    }
   ],
   "source": [
    "#which day most orders take place\n",
    "df_ords_prods['order_dow'].value_counts(dropna=False)"
   ]
  },
  {
   "cell_type": "markdown",
   "id": "a1afe196-e028-4586-8399-044f6e08cd0d",
   "metadata": {},
   "source": [
    "#### Days of the week \n",
    "#### 0 : Saturday \n",
    "\n",
    "#### 1 : Sunday \n",
    "\n",
    "#### 2 : Monday \n",
    "\n",
    "#### 3 : Tuesday\n",
    "\n",
    "#### 4 : Wednesday \n",
    "\n",
    "#### 5 : Thursday \n",
    "\n",
    "#### 6 : Friday "
   ]
  },
  {
   "cell_type": "code",
   "execution_count": 59,
   "id": "f1f0d80c-8e0e-4f25-a04c-96e24a44b94a",
   "metadata": {},
   "outputs": [],
   "source": [
    "# Use for-loop to determine whether orders are on \"busiest day\" (0 = Saturday), \"least busy\" (4 = Wednesday), or \"regularly busy\" (other days of the week).\n",
    "result = []\n",
    "\n",
    "for value in df_ords_prods[\"order_dow\"]:\n",
    "  if value == 0:\n",
    "    result.append(\"Busiest day\")\n",
    "  elif value == 4:\n",
    "    result.append(\"Least busy\")\n",
    "  else:\n",
    "    result.append(\"Regularly busy\")"
   ]
  },
  {
   "cell_type": "code",
   "execution_count": 42,
   "id": "f4556481-d508-49c1-a14e-f21c32bfbf42",
   "metadata": {},
   "outputs": [],
   "source": [
    "#Combine the result with the dataframe : \n",
    "df_ords_prods['busiest day'] = result"
   ]
  },
  {
   "cell_type": "code",
   "execution_count": 44,
   "id": "435d00ed-e60c-4153-92b1-0a57a1a2d6fb",
   "metadata": {},
   "outputs": [
    {
     "data": {
      "text/plain": [
       "busiest day\n",
       "Regularly busy    22416355\n",
       "Busiest day        6204090\n",
       "Least busy         3783716\n",
       "Name: count, dtype: int64"
      ]
     },
     "execution_count": 44,
     "metadata": {},
     "output_type": "execute_result"
    }
   ],
   "source": [
    "df_ords_prods['busiest day'].value_counts(dropna=False)"
   ]
  },
  {
   "cell_type": "markdown",
   "id": "03692187-ba19-40df-a2e0-811874f50ee4",
   "metadata": {},
   "source": [
    "#### Key Insights:\n",
    "\n",
    "**Busiest Day: Saturday (6,204,090 orders)**\n",
    "\n",
    "**Least Busy Day: Wednesday (3,783,716 orders)**\n",
    "\n",
    "**Regularly Busy Days: Sunday, Friday, Monday, Thursday, Tuesday**"
   ]
  },
  {
   "cell_type": "markdown",
   "id": "7e630fe8-12d7-47aa-90cb-7878972e3f96",
   "metadata": {},
   "source": [
    "# 4. Update 'busiest_day' to 'busiest_days'"
   ]
  },
  {
   "cell_type": "code",
   "execution_count": 80,
   "id": "e352ec6d-b6b1-44b5-98d5-f8185a190a0e",
   "metadata": {},
   "outputs": [],
   "source": [
    "#Use loop for the update \n",
    "result_2 = []\n",
    "\n",
    "for value in df_ords_prods[\"order_dow\"]:\n",
    "  if value == 0 or value == 1:\n",
    "    result_2.append(\"Busiest days\")\n",
    "  elif value == 4 or value == 3:\n",
    "    result_2.append(\"Slowest days\")\n",
    "  else:\n",
    "    result_2.append(\"Regularly busy\")"
   ]
  },
  {
   "cell_type": "code",
   "execution_count": 84,
   "id": "8f22dd75-c478-4a8f-9c34-6ef5bcc1e2ad",
   "metadata": {},
   "outputs": [],
   "source": [
    "#Combine the result with the dataframe : \n",
    "df_ords_prods['busiest days'] = result_2"
   ]
  },
  {
   "cell_type": "code",
   "execution_count": 86,
   "id": "e665a19e-c6d5-4bb6-9b0e-b8062ef38b2d",
   "metadata": {},
   "outputs": [
    {
     "data": {
      "text/plain": [
       "busiest days\n",
       "Regularly busy    12915807\n",
       "Busiest days      11864189\n",
       "Slowest days       7624165\n",
       "Name: count, dtype: int64"
      ]
     },
     "execution_count": 86,
     "metadata": {},
     "output_type": "execute_result"
    }
   ],
   "source": [
    "df_ords_prods['busiest days'].value_counts(dropna=False)"
   ]
  },
  {
   "cell_type": "markdown",
   "id": "90663dc5-2042-4164-a842-a7ec7cdf4d56",
   "metadata": {},
   "source": [
    "#### Key Insights:\n",
    "The Regularly busy days have the highest total number of orders, followed by the Busiest days (Saturday and Sunday : When combining Saturday and Sunday, the total is 11,864,189 orders, showing that the weekend generally has the highest activity.)\n",
    "Slowest days (Tuesday and Wednesday) have the fewest orders.\n",
    "\n",
    "#### Comparison of Insights:\n",
    "\n",
    "Saturday remains the single busiest day, but when considering the weekend (Saturday and Sunday), the combined volume far exceeds any other group of days. Tuesday and Wednesday are consistently the slowest days, but their combined impact is still notable. Regularly busy days now show a broader distribution of activity across more days, highlighting the significance of mid-week and end-week orders."
   ]
  },
  {
   "cell_type": "code",
   "execution_count": 89,
   "id": "92db0585-ae6d-4c94-8204-ba84f0fab1da",
   "metadata": {},
   "outputs": [
    {
     "data": {
      "text/html": [
       "<div>\n",
       "<style scoped>\n",
       "    .dataframe tbody tr th:only-of-type {\n",
       "        vertical-align: middle;\n",
       "    }\n",
       "\n",
       "    .dataframe tbody tr th {\n",
       "        vertical-align: top;\n",
       "    }\n",
       "\n",
       "    .dataframe thead th {\n",
       "        text-align: right;\n",
       "    }\n",
       "</style>\n",
       "<table border=\"1\" class=\"dataframe\">\n",
       "  <thead>\n",
       "    <tr style=\"text-align: right;\">\n",
       "      <th></th>\n",
       "      <th>product_id</th>\n",
       "      <th>product_name</th>\n",
       "      <th>aisle_id</th>\n",
       "      <th>department_id</th>\n",
       "      <th>prices</th>\n",
       "      <th>order_id</th>\n",
       "      <th>user_id</th>\n",
       "      <th>order_number</th>\n",
       "      <th>order_dow</th>\n",
       "      <th>order_hour_of_day</th>\n",
       "      <th>days_since_prior_order</th>\n",
       "      <th>add_to_cart_order</th>\n",
       "      <th>reordered</th>\n",
       "      <th>_merge</th>\n",
       "      <th>price_range_loc</th>\n",
       "      <th>busiest day</th>\n",
       "      <th>busiest days</th>\n",
       "    </tr>\n",
       "  </thead>\n",
       "  <tbody>\n",
       "    <tr>\n",
       "      <th>0</th>\n",
       "      <td>1</td>\n",
       "      <td>Chocolate Sandwich Cookies</td>\n",
       "      <td>61</td>\n",
       "      <td>19</td>\n",
       "      <td>5.8</td>\n",
       "      <td>3139998</td>\n",
       "      <td>138</td>\n",
       "      <td>28</td>\n",
       "      <td>6</td>\n",
       "      <td>11</td>\n",
       "      <td>3.0</td>\n",
       "      <td>5</td>\n",
       "      <td>0</td>\n",
       "      <td>both</td>\n",
       "      <td>Mid-range product</td>\n",
       "      <td>Regularly busy</td>\n",
       "      <td>Regularly busy</td>\n",
       "    </tr>\n",
       "    <tr>\n",
       "      <th>1</th>\n",
       "      <td>1</td>\n",
       "      <td>Chocolate Sandwich Cookies</td>\n",
       "      <td>61</td>\n",
       "      <td>19</td>\n",
       "      <td>5.8</td>\n",
       "      <td>1977647</td>\n",
       "      <td>138</td>\n",
       "      <td>30</td>\n",
       "      <td>6</td>\n",
       "      <td>17</td>\n",
       "      <td>20.0</td>\n",
       "      <td>1</td>\n",
       "      <td>1</td>\n",
       "      <td>both</td>\n",
       "      <td>Mid-range product</td>\n",
       "      <td>Regularly busy</td>\n",
       "      <td>Regularly busy</td>\n",
       "    </tr>\n",
       "    <tr>\n",
       "      <th>2</th>\n",
       "      <td>1</td>\n",
       "      <td>Chocolate Sandwich Cookies</td>\n",
       "      <td>61</td>\n",
       "      <td>19</td>\n",
       "      <td>5.8</td>\n",
       "      <td>389851</td>\n",
       "      <td>709</td>\n",
       "      <td>2</td>\n",
       "      <td>0</td>\n",
       "      <td>21</td>\n",
       "      <td>6.0</td>\n",
       "      <td>20</td>\n",
       "      <td>0</td>\n",
       "      <td>both</td>\n",
       "      <td>Mid-range product</td>\n",
       "      <td>Busiest day</td>\n",
       "      <td>Busiest days</td>\n",
       "    </tr>\n",
       "    <tr>\n",
       "      <th>3</th>\n",
       "      <td>1</td>\n",
       "      <td>Chocolate Sandwich Cookies</td>\n",
       "      <td>61</td>\n",
       "      <td>19</td>\n",
       "      <td>5.8</td>\n",
       "      <td>652770</td>\n",
       "      <td>764</td>\n",
       "      <td>1</td>\n",
       "      <td>3</td>\n",
       "      <td>13</td>\n",
       "      <td>NaN</td>\n",
       "      <td>10</td>\n",
       "      <td>0</td>\n",
       "      <td>both</td>\n",
       "      <td>Mid-range product</td>\n",
       "      <td>Regularly busy</td>\n",
       "      <td>Slowest days</td>\n",
       "    </tr>\n",
       "    <tr>\n",
       "      <th>4</th>\n",
       "      <td>1</td>\n",
       "      <td>Chocolate Sandwich Cookies</td>\n",
       "      <td>61</td>\n",
       "      <td>19</td>\n",
       "      <td>5.8</td>\n",
       "      <td>1813452</td>\n",
       "      <td>764</td>\n",
       "      <td>3</td>\n",
       "      <td>4</td>\n",
       "      <td>17</td>\n",
       "      <td>9.0</td>\n",
       "      <td>11</td>\n",
       "      <td>1</td>\n",
       "      <td>both</td>\n",
       "      <td>Mid-range product</td>\n",
       "      <td>Least busy</td>\n",
       "      <td>Slowest days</td>\n",
       "    </tr>\n",
       "  </tbody>\n",
       "</table>\n",
       "</div>"
      ],
      "text/plain": [
       "   product_id                product_name  aisle_id  department_id  prices  \\\n",
       "0           1  Chocolate Sandwich Cookies        61             19     5.8   \n",
       "1           1  Chocolate Sandwich Cookies        61             19     5.8   \n",
       "2           1  Chocolate Sandwich Cookies        61             19     5.8   \n",
       "3           1  Chocolate Sandwich Cookies        61             19     5.8   \n",
       "4           1  Chocolate Sandwich Cookies        61             19     5.8   \n",
       "\n",
       "   order_id  user_id  order_number  order_dow  order_hour_of_day  \\\n",
       "0   3139998      138            28          6                 11   \n",
       "1   1977647      138            30          6                 17   \n",
       "2    389851      709             2          0                 21   \n",
       "3    652770      764             1          3                 13   \n",
       "4   1813452      764             3          4                 17   \n",
       "\n",
       "   days_since_prior_order  add_to_cart_order  reordered _merge  \\\n",
       "0                     3.0                  5          0   both   \n",
       "1                    20.0                  1          1   both   \n",
       "2                     6.0                 20          0   both   \n",
       "3                     NaN                 10          0   both   \n",
       "4                     9.0                 11          1   both   \n",
       "\n",
       "     price_range_loc     busiest day    busiest days  \n",
       "0  Mid-range product  Regularly busy  Regularly busy  \n",
       "1  Mid-range product  Regularly busy  Regularly busy  \n",
       "2  Mid-range product     Busiest day    Busiest days  \n",
       "3  Mid-range product  Regularly busy    Slowest days  \n",
       "4  Mid-range product      Least busy    Slowest days  "
      ]
     },
     "execution_count": 89,
     "metadata": {},
     "output_type": "execute_result"
    }
   ],
   "source": [
    "# Checking the output of the dataframe : \n",
    "df_ords_prods.head()"
   ]
  },
  {
   "cell_type": "markdown",
   "id": "2d11b4a9-0ca4-4210-999c-a4ca1da8fba8",
   "metadata": {},
   "source": [
    "# 5. Creating new column 'busiest_period_of_day'"
   ]
  },
  {
   "cell_type": "code",
   "execution_count": 92,
   "id": "aacefeb5-0db6-4150-a100-714089522718",
   "metadata": {},
   "outputs": [
    {
     "data": {
      "text/plain": [
       "order_hour_of_day\n",
       "10    2761700\n",
       "11    2736077\n",
       "14    2689083\n",
       "15    2662082\n",
       "13    2660906\n",
       "12    2618479\n",
       "16    2535141\n",
       "9     2454151\n",
       "17    2087598\n",
       "8     1718068\n",
       "18    1636473\n",
       "19    1258275\n",
       "20     976138\n",
       "7      891030\n",
       "21     795624\n",
       "22     634220\n",
       "23     402310\n",
       "6      290487\n",
       "0      218767\n",
       "1      115700\n",
       "5       87959\n",
       "2       69372\n",
       "4       53241\n",
       "3       51280\n",
       "Name: count, dtype: int64"
      ]
     },
     "execution_count": 92,
     "metadata": {},
     "output_type": "execute_result"
    }
   ],
   "source": [
    "#which hour most orders take place\n",
    "df_ords_prods['order_hour_of_day'].value_counts(dropna=False)"
   ]
  },
  {
   "cell_type": "code",
   "execution_count": 94,
   "id": "ac8485fe-052c-4431-a24f-9ffe3290202b",
   "metadata": {},
   "outputs": [
    {
     "name": "stdout",
     "output_type": "stream",
     "text": [
      "busiest_period_of_day\n",
      "Most orders       13509848\n",
      "Average orders    13049910\n",
      "Fewest orders      5844403\n",
      "Name: count, dtype: int64\n"
     ]
    }
   ],
   "source": [
    "# Initialize an empty list to store the categories\n",
    "hour_categories = []\n",
    "\n",
    "# Categorize each hour based on the provided conditions\n",
    "for value in df_ords_prods[\"order_hour_of_day\"]:\n",
    "    if value in [10, 11, 14, 15, 13]:\n",
    "        hour_categories.append(\"Most orders\")\n",
    "    elif value in [12, 16, 9, 17, 8, 18]:\n",
    "        hour_categories.append(\"Average orders\")\n",
    "    else:\n",
    "        hour_categories.append(\"Fewest orders\")\n",
    "\n",
    "# Add the new column to the DataFrame\n",
    "df_ords_prods['busiest_period_of_day'] = hour_categories\n",
    "\n",
    "# Verify the new column\n",
    "print(df_ords_prods['busiest_period_of_day'].value_counts())\n"
   ]
  },
  {
   "cell_type": "markdown",
   "id": "c385ce33-6d69-419a-9b7d-ea93a5da11fe",
   "metadata": {},
   "source": [
    "#### The distribution of orders is relatively balanced between \"Most Orders\" and \"Average Orders,\" with \"Fewest Orders\" having significantly fewer orders. Understanding these patterns can help in optimizing resource allocation and handling peak loads effectively."
   ]
  },
  {
   "cell_type": "markdown",
   "id": "bb7fd6ff-86a0-4339-94d0-9ff3013532c1",
   "metadata": {},
   "source": [
    "# 6 Exporting the updated dataframe "
   ]
  },
  {
   "cell_type": "code",
   "execution_count": 103,
   "id": "f781bd31-ec61-4f33-a056-d4666040a343",
   "metadata": {},
   "outputs": [],
   "source": [
    "df_ords_prods.to_pickle(os.path.join(path, 'Prepared Data', 'orders_products_derived.pkl'))"
   ]
  }
 ],
 "metadata": {
  "kernelspec": {
   "display_name": "Python 3 (ipykernel)",
   "language": "python",
   "name": "python3"
  },
  "language_info": {
   "codemirror_mode": {
    "name": "ipython",
    "version": 3
   },
   "file_extension": ".py",
   "mimetype": "text/x-python",
   "name": "python",
   "nbconvert_exporter": "python",
   "pygments_lexer": "ipython3",
   "version": "3.12.4"
  }
 },
 "nbformat": 4,
 "nbformat_minor": 5
}

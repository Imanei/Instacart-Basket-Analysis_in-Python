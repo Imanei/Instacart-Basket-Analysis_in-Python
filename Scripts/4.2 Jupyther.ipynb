{
 "cells": [
  {
   "cell_type": "code",
   "execution_count": null,
   "id": "173a505b-3f44-4105-80c5-bc7e057960dc",
   "metadata": {},
   "outputs": [],
   "source": [
    "#01. Import libraries"
   ]
  },
  {
   "cell_type": "code",
   "execution_count": 1,
   "id": "fd3ca330-d1b2-433b-9cc7-f258991e3f04",
   "metadata": {},
   "outputs": [],
   "source": [
    "#Import libraries\n",
    "import pandas as pd\n",
    "import numpy as np\n",
    "import os\n"
   ]
  },
  {
   "cell_type": "code",
   "execution_count": null,
   "id": "269cd0c0-800c-41fd-a661-99a036e3dca6",
   "metadata": {},
   "outputs": [],
   "source": [
    "#02. Insert Data"
   ]
  },
  {
   "cell_type": "code",
   "execution_count": 21,
   "id": "ec475dd9-715b-4d2d-829e-020eb889cbbe",
   "metadata": {},
   "outputs": [],
   "source": [
    "#Code 3 different ways of reaching a result of 100 by adding or subtracting numeric variables.\n",
    "x=60\n",
    "y=40\n",
    "z=160\n",
    "m=20"
   ]
  },
  {
   "cell_type": "code",
   "execution_count": 17,
   "id": "240de743-ffd8-4793-9e0d-b75d9a9e386e",
   "metadata": {},
   "outputs": [
    {
     "data": {
      "text/plain": [
       "100"
      ]
     },
     "execution_count": 17,
     "metadata": {},
     "output_type": "execute_result"
    }
   ],
   "source": [
    "x+y"
   ]
  },
  {
   "cell_type": "code",
   "execution_count": 19,
   "id": "ecdcf88d-e0cd-4031-ab15-857de322e452",
   "metadata": {},
   "outputs": [
    {
     "data": {
      "text/plain": [
       "100"
      ]
     },
     "execution_count": 19,
     "metadata": {},
     "output_type": "execute_result"
    }
   ],
   "source": [
    "z-x"
   ]
  },
  {
   "cell_type": "code",
   "execution_count": 23,
   "id": "a47f02f5-dd93-4e3e-a682-28bbc3785d8a",
   "metadata": {},
   "outputs": [
    {
     "data": {
      "text/plain": [
       "100"
      ]
     },
     "execution_count": 23,
     "metadata": {},
     "output_type": "execute_result"
    }
   ],
   "source": [
    "z-y-m"
   ]
  },
  {
   "cell_type": "code",
   "execution_count": 39,
   "id": "31bf32e0-3fd0-49b2-ac26-e97f76cce579",
   "metadata": {},
   "outputs": [],
   "source": [
    "#Code 2 floating-point variables and divide them by each other.\n",
    "f=99.5\n",
    "t=65.7"
   ]
  },
  {
   "cell_type": "code",
   "execution_count": 43,
   "id": "e57434bd-b216-421c-b5e0-6f42374530bb",
   "metadata": {},
   "outputs": [
    {
     "data": {
      "text/plain": [
       "-33.8"
      ]
     },
     "execution_count": 43,
     "metadata": {},
     "output_type": "execute_result"
    }
   ],
   "source": [
    "t-f"
   ]
  },
  {
   "cell_type": "code",
   "execution_count": 45,
   "id": "908ce00b-269d-4c05-affa-c0b9848db933",
   "metadata": {},
   "outputs": [],
   "source": [
    "#Construct a short word made of separate strings\n",
    "e='Phy'\n",
    "r='thon 3'"
   ]
  },
  {
   "cell_type": "code",
   "execution_count": 47,
   "id": "5e854366-9942-4424-900a-0e66de240892",
   "metadata": {},
   "outputs": [
    {
     "data": {
      "text/plain": [
       "'Phython 3'"
      ]
     },
     "execution_count": 47,
     "metadata": {},
     "output_type": "execute_result"
    }
   ],
   "source": [
    "e+r"
   ]
  },
  {
   "cell_type": "code",
   "execution_count": 49,
   "id": "d221d2a7-6208-4a95-accf-f6de747fcafc",
   "metadata": {},
   "outputs": [],
   "source": [
    "#Construct 2 short sentences made of separate strings.\n",
    "u='Achievement 4 Project '\n",
    "o='Instacart Grocery Basket Analysis'\n"
   ]
  },
  {
   "cell_type": "code",
   "execution_count": 51,
   "id": "bf40831c-779e-4cf5-a38c-1de307f4c278",
   "metadata": {},
   "outputs": [
    {
     "data": {
      "text/plain": [
       "'Achievement 4 Project Instacart Grocery Basket Analysis'"
      ]
     },
     "execution_count": 51,
     "metadata": {},
     "output_type": "execute_result"
    }
   ],
   "source": [
    "u+o"
   ]
  },
  {
   "cell_type": "code",
   "execution_count": 53,
   "id": "0d35deef-11b0-4700-b86a-5af8d9530d10",
   "metadata": {},
   "outputs": [
    {
     "data": {
      "text/plain": [
       "'JupytherJupytherJupytherJupytherJupytherJupytherJupytherJupytherJupytherJupytherJupytherJupytherJupytherJupytherJupytherJupytherJupytherJupytherJupytherJupytherJupytherJupytherJupytherJupytherJupytherJupytherJupytherJupytherJupytherJupytherJupytherJupytherJupytherJupytherJupytherJupytherJupytherJupytherJupytherJupytherJupytherJupytherJupytherJupytherJupytherJupytherJupytherJupytherJupytherJupytherJupytherJupytherJupytherJupytherJupytherJupytherJupytherJupytherJupytherJupytherJupytherJupytherJupytherJupytherJupytherJupytherJupytherJupytherJupytherJupytherJupytherJupytherJupytherJupytherJupytherJupytherJupytherJupytherJupytherJupytherJupytherJupytherJupytherJupytherJupytherJupytherJupytherJupytherJupytherJupytherJupytherJupytherJupytherJupytherJupytherJupytherJupytherJupytherJupytherJupyther'"
      ]
     },
     "execution_count": 53,
     "metadata": {},
     "output_type": "execute_result"
    }
   ],
   "source": [
    "#include a command that makes a string appear 100 times.\n",
    "p='Jupyther'\n",
    "p*100"
   ]
  }
 ],
 "metadata": {
  "kernelspec": {
   "display_name": "Python 3 (ipykernel)",
   "language": "python",
   "name": "python3"
  },
  "language_info": {
   "codemirror_mode": {
    "name": "ipython",
    "version": 3
   },
   "file_extension": ".py",
   "mimetype": "text/x-python",
   "name": "python",
   "nbconvert_exporter": "python",
   "pygments_lexer": "ipython3",
   "version": "3.12.4"
  }
 },
 "nbformat": 4,
 "nbformat_minor": 5
}

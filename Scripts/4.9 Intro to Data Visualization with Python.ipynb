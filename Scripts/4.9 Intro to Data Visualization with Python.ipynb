{
 "cells": [
  {
   "cell_type": "code",
   "execution_count": 1,
   "id": "6764c91b-f417-4abb-8364-4d181a952922",
   "metadata": {},
   "outputs": [],
   "source": [
    "#Import libraries \n",
    "import pandas as pd\n",
    "import numpy as np\n",
    "import os\n",
    "import matplotlib.pyplot as plt\n",
    "import seaborn as sns\n",
    "import scipy"
   ]
  },
  {
   "cell_type": "code",
   "execution_count": 24,
   "id": "72b87d51-d307-46bd-bd00-03271f87f4fa",
   "metadata": {},
   "outputs": [],
   "source": [
    "#Import dataset \n",
    "# Project folder path \n",
    "path = r'C:\\Users\\hp\\08-2024 Instacart Basket Analysis'\n",
    "# Import orders products merged\n",
    "ords_prods_merge = pd.read_pickle(os.path.join(path,'Data', 'Prepared Data', 'ords_prods_aggregated.pkl'))"
   ]
  },
  {
   "cell_type": "code",
   "execution_count": 6,
   "id": "c17d3fb3-fcdb-48a2-a1b1-43b1db4afe08",
   "metadata": {},
   "outputs": [
    {
     "data": {
      "text/plain": [
       "(32404161, 24)"
      ]
     },
     "execution_count": 6,
     "metadata": {},
     "output_type": "execute_result"
    }
   ],
   "source": [
    "ords_prods_merge.shape"
   ]
  },
  {
   "cell_type": "code",
   "execution_count": 8,
   "id": "f013d6ce-fa01-4a20-a898-1ec3881121b5",
   "metadata": {},
   "outputs": [
    {
     "data": {
      "text/html": [
       "<div>\n",
       "<style scoped>\n",
       "    .dataframe tbody tr th:only-of-type {\n",
       "        vertical-align: middle;\n",
       "    }\n",
       "\n",
       "    .dataframe tbody tr th {\n",
       "        vertical-align: top;\n",
       "    }\n",
       "\n",
       "    .dataframe thead th {\n",
       "        text-align: right;\n",
       "    }\n",
       "</style>\n",
       "<table border=\"1\" class=\"dataframe\">\n",
       "  <thead>\n",
       "    <tr style=\"text-align: right;\">\n",
       "      <th></th>\n",
       "      <th>product_id</th>\n",
       "      <th>product_name</th>\n",
       "      <th>aisle_id</th>\n",
       "      <th>department_id</th>\n",
       "      <th>prices</th>\n",
       "      <th>order_id</th>\n",
       "      <th>user_id</th>\n",
       "      <th>order_number</th>\n",
       "      <th>order_dow</th>\n",
       "      <th>order_hour_of_day</th>\n",
       "      <th>...</th>\n",
       "      <th>price_range_loc</th>\n",
       "      <th>busiest day</th>\n",
       "      <th>busiest days</th>\n",
       "      <th>busiest_period_of_day</th>\n",
       "      <th>max_order</th>\n",
       "      <th>loyalty_flag</th>\n",
       "      <th>average_spend</th>\n",
       "      <th>spender_flag</th>\n",
       "      <th>Customer_frequency</th>\n",
       "      <th>frequency_flag</th>\n",
       "    </tr>\n",
       "  </thead>\n",
       "  <tbody>\n",
       "    <tr>\n",
       "      <th>0</th>\n",
       "      <td>1</td>\n",
       "      <td>Chocolate Sandwich Cookies</td>\n",
       "      <td>61</td>\n",
       "      <td>19</td>\n",
       "      <td>5.8</td>\n",
       "      <td>3139998</td>\n",
       "      <td>138</td>\n",
       "      <td>28</td>\n",
       "      <td>6</td>\n",
       "      <td>11</td>\n",
       "      <td>...</td>\n",
       "      <td>Mid-range product</td>\n",
       "      <td>Regularly busy</td>\n",
       "      <td>Regularly busy</td>\n",
       "      <td>Most orders</td>\n",
       "      <td>32</td>\n",
       "      <td>Regular customer</td>\n",
       "      <td>6.935811</td>\n",
       "      <td>Low_spender</td>\n",
       "      <td>8.0</td>\n",
       "      <td>Frequent Customer</td>\n",
       "    </tr>\n",
       "    <tr>\n",
       "      <th>1</th>\n",
       "      <td>1</td>\n",
       "      <td>Chocolate Sandwich Cookies</td>\n",
       "      <td>61</td>\n",
       "      <td>19</td>\n",
       "      <td>5.8</td>\n",
       "      <td>1977647</td>\n",
       "      <td>138</td>\n",
       "      <td>30</td>\n",
       "      <td>6</td>\n",
       "      <td>17</td>\n",
       "      <td>...</td>\n",
       "      <td>Mid-range product</td>\n",
       "      <td>Regularly busy</td>\n",
       "      <td>Regularly busy</td>\n",
       "      <td>Average orders</td>\n",
       "      <td>32</td>\n",
       "      <td>Regular customer</td>\n",
       "      <td>6.935811</td>\n",
       "      <td>Low_spender</td>\n",
       "      <td>8.0</td>\n",
       "      <td>Frequent Customer</td>\n",
       "    </tr>\n",
       "    <tr>\n",
       "      <th>2</th>\n",
       "      <td>1</td>\n",
       "      <td>Chocolate Sandwich Cookies</td>\n",
       "      <td>61</td>\n",
       "      <td>19</td>\n",
       "      <td>5.8</td>\n",
       "      <td>389851</td>\n",
       "      <td>709</td>\n",
       "      <td>2</td>\n",
       "      <td>0</td>\n",
       "      <td>21</td>\n",
       "      <td>...</td>\n",
       "      <td>Mid-range product</td>\n",
       "      <td>Busiest day</td>\n",
       "      <td>Busiest days</td>\n",
       "      <td>Fewest orders</td>\n",
       "      <td>5</td>\n",
       "      <td>New customer</td>\n",
       "      <td>7.930208</td>\n",
       "      <td>Low_spender</td>\n",
       "      <td>8.0</td>\n",
       "      <td>Frequent Customer</td>\n",
       "    </tr>\n",
       "    <tr>\n",
       "      <th>3</th>\n",
       "      <td>1</td>\n",
       "      <td>Chocolate Sandwich Cookies</td>\n",
       "      <td>61</td>\n",
       "      <td>19</td>\n",
       "      <td>5.8</td>\n",
       "      <td>652770</td>\n",
       "      <td>764</td>\n",
       "      <td>1</td>\n",
       "      <td>3</td>\n",
       "      <td>13</td>\n",
       "      <td>...</td>\n",
       "      <td>Mid-range product</td>\n",
       "      <td>Regularly busy</td>\n",
       "      <td>Slowest days</td>\n",
       "      <td>Most orders</td>\n",
       "      <td>3</td>\n",
       "      <td>New customer</td>\n",
       "      <td>4.972414</td>\n",
       "      <td>Low_spender</td>\n",
       "      <td>9.0</td>\n",
       "      <td>Frequent Customer</td>\n",
       "    </tr>\n",
       "    <tr>\n",
       "      <th>4</th>\n",
       "      <td>1</td>\n",
       "      <td>Chocolate Sandwich Cookies</td>\n",
       "      <td>61</td>\n",
       "      <td>19</td>\n",
       "      <td>5.8</td>\n",
       "      <td>1813452</td>\n",
       "      <td>764</td>\n",
       "      <td>3</td>\n",
       "      <td>4</td>\n",
       "      <td>17</td>\n",
       "      <td>...</td>\n",
       "      <td>Mid-range product</td>\n",
       "      <td>Least busy</td>\n",
       "      <td>Slowest days</td>\n",
       "      <td>Average orders</td>\n",
       "      <td>3</td>\n",
       "      <td>New customer</td>\n",
       "      <td>4.972414</td>\n",
       "      <td>Low_spender</td>\n",
       "      <td>9.0</td>\n",
       "      <td>Frequent Customer</td>\n",
       "    </tr>\n",
       "  </tbody>\n",
       "</table>\n",
       "<p>5 rows × 24 columns</p>\n",
       "</div>"
      ],
      "text/plain": [
       "   product_id                product_name  aisle_id  department_id  prices  \\\n",
       "0           1  Chocolate Sandwich Cookies        61             19     5.8   \n",
       "1           1  Chocolate Sandwich Cookies        61             19     5.8   \n",
       "2           1  Chocolate Sandwich Cookies        61             19     5.8   \n",
       "3           1  Chocolate Sandwich Cookies        61             19     5.8   \n",
       "4           1  Chocolate Sandwich Cookies        61             19     5.8   \n",
       "\n",
       "   order_id  user_id  order_number  order_dow  order_hour_of_day  ...  \\\n",
       "0   3139998      138            28          6                 11  ...   \n",
       "1   1977647      138            30          6                 17  ...   \n",
       "2    389851      709             2          0                 21  ...   \n",
       "3    652770      764             1          3                 13  ...   \n",
       "4   1813452      764             3          4                 17  ...   \n",
       "\n",
       "     price_range_loc     busiest day    busiest days busiest_period_of_day  \\\n",
       "0  Mid-range product  Regularly busy  Regularly busy           Most orders   \n",
       "1  Mid-range product  Regularly busy  Regularly busy        Average orders   \n",
       "2  Mid-range product     Busiest day    Busiest days         Fewest orders   \n",
       "3  Mid-range product  Regularly busy    Slowest days           Most orders   \n",
       "4  Mid-range product      Least busy    Slowest days        Average orders   \n",
       "\n",
       "  max_order      loyalty_flag average_spend spender_flag  Customer_frequency  \\\n",
       "0        32  Regular customer      6.935811  Low_spender                 8.0   \n",
       "1        32  Regular customer      6.935811  Low_spender                 8.0   \n",
       "2         5      New customer      7.930208  Low_spender                 8.0   \n",
       "3         3      New customer      4.972414  Low_spender                 9.0   \n",
       "4         3      New customer      4.972414  Low_spender                 9.0   \n",
       "\n",
       "      frequency_flag  \n",
       "0  Frequent Customer  \n",
       "1  Frequent Customer  \n",
       "2  Frequent Customer  \n",
       "3  Frequent Customer  \n",
       "4  Frequent Customer  \n",
       "\n",
       "[5 rows x 24 columns]"
      ]
     },
     "execution_count": 8,
     "metadata": {},
     "output_type": "execute_result"
    }
   ],
   "source": [
    "ords_prods_merge.head()"
   ]
  },
  {
   "cell_type": "markdown",
   "id": "8b463706-c009-42c6-b1a7-97e9b91ae59b",
   "metadata": {},
   "source": [
    "# 1. Bar Chart "
   ]
  },
  {
   "cell_type": "code",
   "execution_count": 14,
   "id": "63fa8583-1788-4513-8ab1-e862a6e6988e",
   "metadata": {},
   "outputs": [
    {
     "data": {
      "text/plain": [
       "<Axes: xlabel='order_dow'>"
      ]
     },
     "execution_count": 14,
     "metadata": {},
     "output_type": "execute_result"
    },
    {
     "data": {
      "image/png": "[encoded data removed]",
      "text/plain": [
       "<Figure size 640x480 with 1 Axes>"
      ]
     },
     "metadata": {},
     "output_type": "display_data"
    }
   ],
   "source": [
    "ords_prods_merge['order_dow'].value_counts().plot.bar()"
   ]
  },
  {
   "cell_type": "markdown",
   "id": "4fb5ae82-1026-4713-a371-27db2dfe4e15",
   "metadata": {},
   "source": [
    "it's ordered from largest to smallest. to change this\n",
    "#bar = ords_prods_merge['order_dow'].value_counts().sort_index().plot.bar()\n",
    "\n",
    "(This same trick can actually be used when printing frequencies)"
   ]
  },
  {
   "cell_type": "code",
   "execution_count": 18,
   "id": "39492c3b-b96e-4e06-b39c-930f92f10ba5",
   "metadata": {},
   "outputs": [
    {
     "data": {
      "image/png": "[encoded data removed]",
      "text/plain": [
       "<Figure size 640x480 with 1 Axes>"
      ]
     },
     "metadata": {},
     "output_type": "display_data"
    }
   ],
   "source": [
    "bar = ords_prods_merge['order_dow'].value_counts().plot.bar(color =['purple', 'red', 'pink', 'orange', 'yellow', 'green', 'blue'])"
   ]
  },
  {
   "cell_type": "code",
   "execution_count": 30,
   "id": "4f885078-eb63-4703-bb99-c7950b5a7074",
   "metadata": {},
   "outputs": [],
   "source": [
    "#export it outside of Jupyter in the form of an image file. \n",
    "bar.figure.savefig(os.path.join(path, 'Analysis','Visualizations', 'bar_orders_dow.png'))"
   ]
  },
  {
   "cell_type": "markdown",
   "id": "b07fcbb5-4051-40bd-97f3-d1602ff033ce",
   "metadata": {},
   "source": [
    "# 2. Histograms and Scatterplots"
   ]
  },
  {
   "cell_type": "code",
   "execution_count": 33,
   "id": "e2303165-0952-4f19-84a7-e033945895af",
   "metadata": {},
   "outputs": [
    {
     "data": {
      "text/plain": [
       "<Axes: ylabel='Frequency'>"
      ]
     },
     "execution_count": 33,
     "metadata": {},
     "output_type": "execute_result"
    },
    {
     "data": {
      "image/png": "[encoded data removed]",
      "text/plain": [
       "<Figure size 640x480 with 1 Axes>"
      ]
     },
     "metadata": {},
     "output_type": "display_data"
    }
   ],
   "source": [
    "#Histogram of price column \n",
    "ords_prods_merge['prices'].plot.hist(bins = 25)"
   ]
  },
  {
   "cell_type": "code",
   "execution_count": 35,
   "id": "928358c1-a999-422a-9790-7b90c7dca2ad",
   "metadata": {},
   "outputs": [
    {
     "data": {
      "text/plain": [
       "<Axes: xlabel='prices', ylabel='prices'>"
      ]
     },
     "execution_count": 35,
     "metadata": {},
     "output_type": "execute_result"
    },
    {
     "data": {
      "image/png": "[encoded data removed]",
      "text/plain": [
       "<Figure size 640x480 with 1 Axes>"
      ]
     },
     "metadata": {},
     "output_type": "display_data"
    }
   ],
   "source": [
    "#using scatterplots to visualize the distribution of data points in order to identify any outliers. \n",
    "sns.scatterplot(x = 'prices', y = 'prices',data = ords_prods_merge)"
   ]
  },
  {
   "cell_type": "code",
   "execution_count": 37,
   "id": "f5dd8f09-08a6-4dde-b4bd-6237e142e58b",
   "metadata": {},
   "outputs": [
    {
     "data": {
      "text/html": [
       "<div>\n",
       "<style scoped>\n",
       "    .dataframe tbody tr th:only-of-type {\n",
       "        vertical-align: middle;\n",
       "    }\n",
       "\n",
       "    .dataframe tbody tr th {\n",
       "        vertical-align: top;\n",
       "    }\n",
       "\n",
       "    .dataframe thead th {\n",
       "        text-align: right;\n",
       "    }\n",
       "</style>\n",
       "<table border=\"1\" class=\"dataframe\">\n",
       "  <thead>\n",
       "    <tr style=\"text-align: right;\">\n",
       "      <th></th>\n",
       "      <th>product_id</th>\n",
       "      <th>product_name</th>\n",
       "      <th>aisle_id</th>\n",
       "      <th>department_id</th>\n",
       "      <th>prices</th>\n",
       "      <th>order_id</th>\n",
       "      <th>user_id</th>\n",
       "      <th>order_number</th>\n",
       "      <th>order_dow</th>\n",
       "      <th>order_hour_of_day</th>\n",
       "      <th>...</th>\n",
       "      <th>price_range_loc</th>\n",
       "      <th>busiest day</th>\n",
       "      <th>busiest days</th>\n",
       "      <th>busiest_period_of_day</th>\n",
       "      <th>max_order</th>\n",
       "      <th>loyalty_flag</th>\n",
       "      <th>average_spend</th>\n",
       "      <th>spender_flag</th>\n",
       "      <th>Customer_frequency</th>\n",
       "      <th>frequency_flag</th>\n",
       "    </tr>\n",
       "  </thead>\n",
       "  <tbody>\n",
       "    <tr>\n",
       "      <th>13100147</th>\n",
       "      <td>21553</td>\n",
       "      <td>Lowfat 2% Milkfat Cottage Cheese</td>\n",
       "      <td>108</td>\n",
       "      <td>16</td>\n",
       "      <td>14900.0</td>\n",
       "      <td>912404</td>\n",
       "      <td>17</td>\n",
       "      <td>12</td>\n",
       "      <td>2</td>\n",
       "      <td>14</td>\n",
       "      <td>...</td>\n",
       "      <td>High-range product</td>\n",
       "      <td>Regularly busy</td>\n",
       "      <td>Regularly busy</td>\n",
       "      <td>Most orders</td>\n",
       "      <td>40</td>\n",
       "      <td>Regular customer</td>\n",
       "      <td>108.648299</td>\n",
       "      <td>High_spender</td>\n",
       "      <td>5.0</td>\n",
       "      <td>Frequent Customer</td>\n",
       "    </tr>\n",
       "    <tr>\n",
       "      <th>13100148</th>\n",
       "      <td>21553</td>\n",
       "      <td>Lowfat 2% Milkfat Cottage Cheese</td>\n",
       "      <td>108</td>\n",
       "      <td>16</td>\n",
       "      <td>14900.0</td>\n",
       "      <td>603376</td>\n",
       "      <td>17</td>\n",
       "      <td>22</td>\n",
       "      <td>6</td>\n",
       "      <td>16</td>\n",
       "      <td>...</td>\n",
       "      <td>High-range product</td>\n",
       "      <td>Regularly busy</td>\n",
       "      <td>Regularly busy</td>\n",
       "      <td>Average orders</td>\n",
       "      <td>40</td>\n",
       "      <td>Regular customer</td>\n",
       "      <td>108.648299</td>\n",
       "      <td>High_spender</td>\n",
       "      <td>5.0</td>\n",
       "      <td>Frequent Customer</td>\n",
       "    </tr>\n",
       "    <tr>\n",
       "      <th>13100149</th>\n",
       "      <td>21553</td>\n",
       "      <td>Lowfat 2% Milkfat Cottage Cheese</td>\n",
       "      <td>108</td>\n",
       "      <td>16</td>\n",
       "      <td>14900.0</td>\n",
       "      <td>3264360</td>\n",
       "      <td>135</td>\n",
       "      <td>2</td>\n",
       "      <td>2</td>\n",
       "      <td>21</td>\n",
       "      <td>...</td>\n",
       "      <td>High-range product</td>\n",
       "      <td>Regularly busy</td>\n",
       "      <td>Regularly busy</td>\n",
       "      <td>Fewest orders</td>\n",
       "      <td>4</td>\n",
       "      <td>New customer</td>\n",
       "      <td>1154.792308</td>\n",
       "      <td>High_spender</td>\n",
       "      <td>12.0</td>\n",
       "      <td>Regular customer</td>\n",
       "    </tr>\n",
       "    <tr>\n",
       "      <th>13100150</th>\n",
       "      <td>21553</td>\n",
       "      <td>Lowfat 2% Milkfat Cottage Cheese</td>\n",
       "      <td>108</td>\n",
       "      <td>16</td>\n",
       "      <td>14900.0</td>\n",
       "      <td>892534</td>\n",
       "      <td>135</td>\n",
       "      <td>3</td>\n",
       "      <td>0</td>\n",
       "      <td>8</td>\n",
       "      <td>...</td>\n",
       "      <td>High-range product</td>\n",
       "      <td>Busiest day</td>\n",
       "      <td>Busiest days</td>\n",
       "      <td>Average orders</td>\n",
       "      <td>4</td>\n",
       "      <td>New customer</td>\n",
       "      <td>1154.792308</td>\n",
       "      <td>High_spender</td>\n",
       "      <td>12.0</td>\n",
       "      <td>Regular customer</td>\n",
       "    </tr>\n",
       "    <tr>\n",
       "      <th>13100151</th>\n",
       "      <td>21553</td>\n",
       "      <td>Lowfat 2% Milkfat Cottage Cheese</td>\n",
       "      <td>108</td>\n",
       "      <td>16</td>\n",
       "      <td>14900.0</td>\n",
       "      <td>229704</td>\n",
       "      <td>342</td>\n",
       "      <td>8</td>\n",
       "      <td>1</td>\n",
       "      <td>19</td>\n",
       "      <td>...</td>\n",
       "      <td>High-range product</td>\n",
       "      <td>Regularly busy</td>\n",
       "      <td>Busiest days</td>\n",
       "      <td>Fewest orders</td>\n",
       "      <td>16</td>\n",
       "      <td>Regular customer</td>\n",
       "      <td>114.426619</td>\n",
       "      <td>High_spender</td>\n",
       "      <td>23.0</td>\n",
       "      <td>Non_frequent_customer</td>\n",
       "    </tr>\n",
       "    <tr>\n",
       "      <th>...</th>\n",
       "      <td>...</td>\n",
       "      <td>...</td>\n",
       "      <td>...</td>\n",
       "      <td>...</td>\n",
       "      <td>...</td>\n",
       "      <td>...</td>\n",
       "      <td>...</td>\n",
       "      <td>...</td>\n",
       "      <td>...</td>\n",
       "      <td>...</td>\n",
       "      <td>...</td>\n",
       "      <td>...</td>\n",
       "      <td>...</td>\n",
       "      <td>...</td>\n",
       "      <td>...</td>\n",
       "      <td>...</td>\n",
       "      <td>...</td>\n",
       "      <td>...</td>\n",
       "      <td>...</td>\n",
       "      <td>...</td>\n",
       "      <td>...</td>\n",
       "    </tr>\n",
       "    <tr>\n",
       "      <th>13104571</th>\n",
       "      <td>21553</td>\n",
       "      <td>Lowfat 2% Milkfat Cottage Cheese</td>\n",
       "      <td>108</td>\n",
       "      <td>16</td>\n",
       "      <td>14900.0</td>\n",
       "      <td>3172853</td>\n",
       "      <td>205650</td>\n",
       "      <td>18</td>\n",
       "      <td>1</td>\n",
       "      <td>9</td>\n",
       "      <td>...</td>\n",
       "      <td>High-range product</td>\n",
       "      <td>Regularly busy</td>\n",
       "      <td>Busiest days</td>\n",
       "      <td>Average orders</td>\n",
       "      <td>25</td>\n",
       "      <td>Regular customer</td>\n",
       "      <td>351.141618</td>\n",
       "      <td>High_spender</td>\n",
       "      <td>6.0</td>\n",
       "      <td>Frequent Customer</td>\n",
       "    </tr>\n",
       "    <tr>\n",
       "      <th>13104572</th>\n",
       "      <td>21553</td>\n",
       "      <td>Lowfat 2% Milkfat Cottage Cheese</td>\n",
       "      <td>108</td>\n",
       "      <td>16</td>\n",
       "      <td>14900.0</td>\n",
       "      <td>2504315</td>\n",
       "      <td>205818</td>\n",
       "      <td>3</td>\n",
       "      <td>5</td>\n",
       "      <td>15</td>\n",
       "      <td>...</td>\n",
       "      <td>High-range product</td>\n",
       "      <td>Regularly busy</td>\n",
       "      <td>Regularly busy</td>\n",
       "      <td>Most orders</td>\n",
       "      <td>25</td>\n",
       "      <td>Regular customer</td>\n",
       "      <td>170.073770</td>\n",
       "      <td>High_spender</td>\n",
       "      <td>13.0</td>\n",
       "      <td>Regular customer</td>\n",
       "    </tr>\n",
       "    <tr>\n",
       "      <th>13104573</th>\n",
       "      <td>21553</td>\n",
       "      <td>Lowfat 2% Milkfat Cottage Cheese</td>\n",
       "      <td>108</td>\n",
       "      <td>16</td>\n",
       "      <td>14900.0</td>\n",
       "      <td>1108388</td>\n",
       "      <td>205818</td>\n",
       "      <td>5</td>\n",
       "      <td>4</td>\n",
       "      <td>5</td>\n",
       "      <td>...</td>\n",
       "      <td>High-range product</td>\n",
       "      <td>Least busy</td>\n",
       "      <td>Slowest days</td>\n",
       "      <td>Fewest orders</td>\n",
       "      <td>25</td>\n",
       "      <td>Regular customer</td>\n",
       "      <td>170.073770</td>\n",
       "      <td>High_spender</td>\n",
       "      <td>13.0</td>\n",
       "      <td>Regular customer</td>\n",
       "    </tr>\n",
       "    <tr>\n",
       "      <th>13104574</th>\n",
       "      <td>21553</td>\n",
       "      <td>Lowfat 2% Milkfat Cottage Cheese</td>\n",
       "      <td>108</td>\n",
       "      <td>16</td>\n",
       "      <td>14900.0</td>\n",
       "      <td>1916142</td>\n",
       "      <td>206049</td>\n",
       "      <td>1</td>\n",
       "      <td>2</td>\n",
       "      <td>17</td>\n",
       "      <td>...</td>\n",
       "      <td>High-range product</td>\n",
       "      <td>Regularly busy</td>\n",
       "      <td>Regularly busy</td>\n",
       "      <td>Average orders</td>\n",
       "      <td>5</td>\n",
       "      <td>New customer</td>\n",
       "      <td>938.031250</td>\n",
       "      <td>High_spender</td>\n",
       "      <td>7.0</td>\n",
       "      <td>Frequent Customer</td>\n",
       "    </tr>\n",
       "    <tr>\n",
       "      <th>13104575</th>\n",
       "      <td>21553</td>\n",
       "      <td>Lowfat 2% Milkfat Cottage Cheese</td>\n",
       "      <td>108</td>\n",
       "      <td>16</td>\n",
       "      <td>14900.0</td>\n",
       "      <td>379732</td>\n",
       "      <td>206049</td>\n",
       "      <td>4</td>\n",
       "      <td>1</td>\n",
       "      <td>14</td>\n",
       "      <td>...</td>\n",
       "      <td>High-range product</td>\n",
       "      <td>Regularly busy</td>\n",
       "      <td>Busiest days</td>\n",
       "      <td>Most orders</td>\n",
       "      <td>5</td>\n",
       "      <td>New customer</td>\n",
       "      <td>938.031250</td>\n",
       "      <td>High_spender</td>\n",
       "      <td>7.0</td>\n",
       "      <td>Frequent Customer</td>\n",
       "    </tr>\n",
       "  </tbody>\n",
       "</table>\n",
       "<p>4429 rows × 24 columns</p>\n",
       "</div>"
      ],
      "text/plain": [
       "          product_id                      product_name  aisle_id  \\\n",
       "13100147       21553  Lowfat 2% Milkfat Cottage Cheese       108   \n",
       "13100148       21553  Lowfat 2% Milkfat Cottage Cheese       108   \n",
       "13100149       21553  Lowfat 2% Milkfat Cottage Cheese       108   \n",
       "13100150       21553  Lowfat 2% Milkfat Cottage Cheese       108   \n",
       "13100151       21553  Lowfat 2% Milkfat Cottage Cheese       108   \n",
       "...              ...                               ...       ...   \n",
       "13104571       21553  Lowfat 2% Milkfat Cottage Cheese       108   \n",
       "13104572       21553  Lowfat 2% Milkfat Cottage Cheese       108   \n",
       "13104573       21553  Lowfat 2% Milkfat Cottage Cheese       108   \n",
       "13104574       21553  Lowfat 2% Milkfat Cottage Cheese       108   \n",
       "13104575       21553  Lowfat 2% Milkfat Cottage Cheese       108   \n",
       "\n",
       "          department_id   prices  order_id  user_id  order_number  order_dow  \\\n",
       "13100147             16  14900.0    912404       17            12          2   \n",
       "13100148             16  14900.0    603376       17            22          6   \n",
       "13100149             16  14900.0   3264360      135             2          2   \n",
       "13100150             16  14900.0    892534      135             3          0   \n",
       "13100151             16  14900.0    229704      342             8          1   \n",
       "...                 ...      ...       ...      ...           ...        ...   \n",
       "13104571             16  14900.0   3172853   205650            18          1   \n",
       "13104572             16  14900.0   2504315   205818             3          5   \n",
       "13104573             16  14900.0   1108388   205818             5          4   \n",
       "13104574             16  14900.0   1916142   206049             1          2   \n",
       "13104575             16  14900.0    379732   206049             4          1   \n",
       "\n",
       "          order_hour_of_day  ...     price_range_loc     busiest day  \\\n",
       "13100147                 14  ...  High-range product  Regularly busy   \n",
       "13100148                 16  ...  High-range product  Regularly busy   \n",
       "13100149                 21  ...  High-range product  Regularly busy   \n",
       "13100150                  8  ...  High-range product     Busiest day   \n",
       "13100151                 19  ...  High-range product  Regularly busy   \n",
       "...                     ...  ...                 ...             ...   \n",
       "13104571                  9  ...  High-range product  Regularly busy   \n",
       "13104572                 15  ...  High-range product  Regularly busy   \n",
       "13104573                  5  ...  High-range product      Least busy   \n",
       "13104574                 17  ...  High-range product  Regularly busy   \n",
       "13104575                 14  ...  High-range product  Regularly busy   \n",
       "\n",
       "            busiest days busiest_period_of_day max_order      loyalty_flag  \\\n",
       "13100147  Regularly busy           Most orders        40  Regular customer   \n",
       "13100148  Regularly busy        Average orders        40  Regular customer   \n",
       "13100149  Regularly busy         Fewest orders         4      New customer   \n",
       "13100150    Busiest days        Average orders         4      New customer   \n",
       "13100151    Busiest days         Fewest orders        16  Regular customer   \n",
       "...                  ...                   ...       ...               ...   \n",
       "13104571    Busiest days        Average orders        25  Regular customer   \n",
       "13104572  Regularly busy           Most orders        25  Regular customer   \n",
       "13104573    Slowest days         Fewest orders        25  Regular customer   \n",
       "13104574  Regularly busy        Average orders         5      New customer   \n",
       "13104575    Busiest days           Most orders         5      New customer   \n",
       "\n",
       "         average_spend  spender_flag  Customer_frequency  \\\n",
       "13100147    108.648299  High_spender                 5.0   \n",
       "13100148    108.648299  High_spender                 5.0   \n",
       "13100149   1154.792308  High_spender                12.0   \n",
       "13100150   1154.792308  High_spender                12.0   \n",
       "13100151    114.426619  High_spender                23.0   \n",
       "...                ...           ...                 ...   \n",
       "13104571    351.141618  High_spender                 6.0   \n",
       "13104572    170.073770  High_spender                13.0   \n",
       "13104573    170.073770  High_spender                13.0   \n",
       "13104574    938.031250  High_spender                 7.0   \n",
       "13104575    938.031250  High_spender                 7.0   \n",
       "\n",
       "                 frequency_flag  \n",
       "13100147      Frequent Customer  \n",
       "13100148      Frequent Customer  \n",
       "13100149       Regular customer  \n",
       "13100150       Regular customer  \n",
       "13100151  Non_frequent_customer  \n",
       "...                         ...  \n",
       "13104571      Frequent Customer  \n",
       "13104572       Regular customer  \n",
       "13104573       Regular customer  \n",
       "13104574      Frequent Customer  \n",
       "13104575      Frequent Customer  \n",
       "\n",
       "[4429 rows x 24 columns]"
      ]
     },
     "execution_count": 37,
     "metadata": {},
     "output_type": "execute_result"
    }
   ],
   "source": [
    "#Further investigation\n",
    "ords_prods_merge.loc[ords_prods_merge['prices'] > 100]"
   ]
  },
  {
   "cell_type": "code",
   "execution_count": 39,
   "id": "b59eb512-d50c-4c13-a87c-5a144cc1376e",
   "metadata": {},
   "outputs": [],
   "source": [
    "#These prices doesn't make sens, for now we will mark them as missing \n",
    "ords_prods_merge.loc[ords_prods_merge['prices'] >100, 'prices'] = np.nan"
   ]
  },
  {
   "cell_type": "code",
   "execution_count": 41,
   "id": "8a7bff64-0b21-4fe0-a14b-83c2106efad2",
   "metadata": {},
   "outputs": [
    {
     "data": {
      "text/plain": [
       "25.0"
      ]
     },
     "execution_count": 41,
     "metadata": {},
     "output_type": "execute_result"
    }
   ],
   "source": [
    "#Check \n",
    "ords_prods_merge['prices'].max()"
   ]
  },
  {
   "cell_type": "code",
   "execution_count": 43,
   "id": "d8b073ac-b3af-412e-9281-285428db843e",
   "metadata": {},
   "outputs": [
    {
     "data": {
      "image/png": "[encoded data removed]",
      "text/plain": [
       "<Figure size 640x480 with 1 Axes>"
      ]
     },
     "metadata": {},
     "output_type": "display_data"
    }
   ],
   "source": [
    "#Retrying the Histogram :\n",
    "hist = ords_prods_merge['prices'].plot.hist(bins = 25)"
   ]
  },
  {
   "cell_type": "markdown",
   "id": "98703c57-e68b-4549-8ba4-4753c3c0c432",
   "metadata": {},
   "source": [
    "most products are between 1 and 15, while a few are higher priced at $15 to 25."
   ]
  },
  {
   "cell_type": "code",
   "execution_count": 48,
   "id": "2b46cfc5-0ec9-47a9-8912-ddda6ad21b33",
   "metadata": {},
   "outputs": [
    {
     "data": {
      "image/png": "[encoded data removed]",
      "text/plain": [
       "<Figure size 640x480 with 1 Axes>"
      ]
     },
     "metadata": {},
     "output_type": "display_data"
    }
   ],
   "source": [
    "#Increasing the number of bins\n",
    "hist2 = ords_prods_merge['prices'].plot.hist(bins = 70)"
   ]
  },
  {
   "cell_type": "code",
   "execution_count": 52,
   "id": "ae3bcd73-854f-4447-afbc-6b0e393e1b19",
   "metadata": {},
   "outputs": [],
   "source": [
    "#export it outside of Jupyter in the form of an image file. \n",
    "hist2.figure.savefig(os.path.join(path, 'Analysis','Visualizations', 'hist_prices.png'))"
   ]
  },
  {
   "cell_type": "markdown",
   "id": "a9fc5d15-99b1-4574-ad23-fc3c0ba4ace9",
   "metadata": {},
   "source": [
    "# 3. Line Charts"
   ]
  },
  {
   "cell_type": "markdown",
   "id": "4791c7c9-f9e0-4159-9fdd-871b37fc997c",
   "metadata": {},
   "source": [
    "## 3.1 Sampling data "
   ]
  },
  {
   "cell_type": "code",
   "execution_count": 66,
   "id": "f4e1fe0e-26b5-44a5-ab6e-4d8b45b4183f",
   "metadata": {},
   "outputs": [],
   "source": [
    "np.random.seed(4)\n",
    "#Creating a list holding true/false values to test np.random.rand() <= 0.7\n",
    "dev = np.random.rand(len(ords_prods_merge)) <= 0.7"
   ]
  },
  {
   "cell_type": "code",
   "execution_count": 58,
   "id": "d4a6a99a-7f7a-4180-a1e1-a7be19db70d1",
   "metadata": {},
   "outputs": [
    {
     "data": {
      "text/plain": [
       "array([False,  True, False, ...,  True,  True, False])"
      ]
     },
     "execution_count": 58,
     "metadata": {},
     "output_type": "execute_result"
    }
   ],
   "source": [
    "dev"
   ]
  },
  {
   "cell_type": "code",
   "execution_count": 62,
   "id": "9f6f2992-79aa-44bd-946e-86ddc1af4aa1",
   "metadata": {},
   "outputs": [
    {
     "data": {
      "text/plain": [
       "array([0.44592973, 0.61877437, 0.0018562 , 0.48660382, 0.89582266,\n",
       "       0.38090608, 0.60698004, 0.72926005, 0.25039912, 0.40943937])"
      ]
     },
     "execution_count": 62,
     "metadata": {},
     "output_type": "execute_result"
    }
   ],
   "source": [
    "# better picture what the function does:\n",
    "np.random.rand(10)"
   ]
  },
  {
   "cell_type": "code",
   "execution_count": 64,
   "id": "1de9e54d-6135-4d25-b98b-2725cc9a900a",
   "metadata": {},
   "outputs": [],
   "source": [
    "#We now have a list of 32,434,212 boolean values and a dataframe that’s 32,434,212 rows long"
   ]
  },
  {
   "cell_type": "code",
   "execution_count": 68,
   "id": "34d44fc2-a443-4c24-9371-badd966c51c2",
   "metadata": {},
   "outputs": [],
   "source": [
    "#to split dataframe into two samples\n",
    "#Store 70% of the sample in the dataframe big \n",
    "big = ords_prods_merge[dev]\n",
    "#Store 30% of the sample in the dataframe small \n",
    "small = ords_prods_merge[~dev]"
   ]
  },
  {
   "cell_type": "code",
   "execution_count": 70,
   "id": "7fd8ca12-65e5-4473-841f-e37dd741f1c5",
   "metadata": {},
   "outputs": [
    {
     "data": {
      "text/plain": [
       "32404161"
      ]
     },
     "execution_count": 70,
     "metadata": {},
     "output_type": "execute_result"
    }
   ],
   "source": [
    "#Check \n",
    "len(ords_prods_merge)"
   ]
  },
  {
   "cell_type": "code",
   "execution_count": 72,
   "id": "96ed1065-f24c-47b9-967c-7151a54b8efc",
   "metadata": {},
   "outputs": [
    {
     "data": {
      "text/plain": [
       "32404161"
      ]
     },
     "execution_count": 72,
     "metadata": {},
     "output_type": "execute_result"
    }
   ],
   "source": [
    "len(big) + len(small)"
   ]
  },
  {
   "cell_type": "code",
   "execution_count": 74,
   "id": "187ce372-396f-40d2-b4eb-9d968ad58638",
   "metadata": {},
   "outputs": [],
   "source": [
    "#Creating df_2 that contains only prices and orders days of week columns from small subset \n",
    "df_2 = small[['order_dow','prices']]"
   ]
  },
  {
   "cell_type": "code",
   "execution_count": 76,
   "id": "09970222-27f5-4790-b8a1-17e4cc41a002",
   "metadata": {},
   "outputs": [
    {
     "data": {
      "image/png": "[encoded data removed]",
      "text/plain": [
       "<Figure size 640x480 with 1 Axes>"
      ]
     },
     "metadata": {},
     "output_type": "display_data"
    }
   ],
   "source": [
    "#Creating the chart\n",
    "line = sns.lineplot(data = df_2, x = 'order_dow',y = 'prices')"
   ]
  },
  {
   "cell_type": "code",
   "execution_count": 78,
   "id": "d291c187-7951-4739-8f1d-34a1abf1dde4",
   "metadata": {},
   "outputs": [],
   "source": [
    "#export it outside of Jupyter in the form of an image file\n",
    "line.figure.savefig(os.path.join(path, 'Analysis','Visualizations', 'line_prices_orderdow.png'))"
   ]
  },
  {
   "cell_type": "code",
   "execution_count": null,
   "id": "7aeeb27a-53cd-4d78-bb91-ec19a490685d",
   "metadata": {},
   "outputs": [],
   "source": []
  }
 ],
 "metadata": {
  "kernelspec": {
   "display_name": "Python 3 (ipykernel)",
   "language": "python",
   "name": "python3"
  },
  "language_info": {
   "codemirror_mode": {
    "name": "ipython",
    "version": 3
   },
   "file_extension": ".py",
   "mimetype": "text/x-python",
   "name": "python",
   "nbconvert_exporter": "python",
   "pygments_lexer": "ipython3",
   "version": "3.12.4"
  }
 },
 "nbformat": 4,
 "nbformat_minor": 5
}

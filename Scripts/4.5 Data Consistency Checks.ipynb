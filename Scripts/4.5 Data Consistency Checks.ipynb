{
 "cells": [
  {
   "cell_type": "markdown",
   "id": "71792b5e-a007-4447-9246-5c6a088d424d",
   "metadata": {},
   "source": [
    "# 1. Importing libraries"
   ]
  },
  {
   "cell_type": "code",
   "execution_count": 3,
   "id": "0cd3f631-db55-4893-b1c6-e7f0cf8ad5fb",
   "metadata": {},
   "outputs": [],
   "source": [
    "# Import libraries\n",
    "import pandas as pd\n",
    "import numpy as np\n",
    "import os"
   ]
  },
  {
   "cell_type": "markdown",
   "id": "2a0a723f-a20f-47d8-b001-e2f591026149",
   "metadata": {},
   "source": [
    "# 2. Importing datasets"
   ]
  },
  {
   "cell_type": "code",
   "execution_count": 68,
   "id": "17f942e0-e48f-4692-8170-495aac080aaa",
   "metadata": {},
   "outputs": [],
   "source": [
    "# Project folder path \n",
    "path = r'C:\\Users\\hp\\08-2024 Instacart Basket Analysis\\Data'\n",
    "# Importing the orders dataset \n",
    "df_ords = pd.read_csv(os.path.join(path, 'Prepared Data', 'orders_wrangled.csv'), index_col =False)\n",
    "# Importing Products dataset \n",
    "df_prods = pd.read_csv(os.path.join(path, 'Original Data', 'products.csv'), index_col = False)\n",
    "# Importing departments dataset \n",
    "df_dep = pd.read_csv(os.path.join(path, 'Prepared data', 'departments_wrangled.csv'), index_col =False)"
   ]
  },
  {
   "cell_type": "markdown",
   "id": "a81dc3ae-720b-402c-bfbb-239f6f343c53",
   "metadata": {},
   "source": [
    "# 3. The consistency checks covered in the Exercise on df_prods dataframe"
   ]
  },
  {
   "cell_type": "markdown",
   "id": "717e376f-6a04-4e28-b451-ca941bee3fd2",
   "metadata": {},
   "source": [
    "## 3.1 Mixed-Type Data"
   ]
  },
  {
   "cell_type": "markdown",
   "id": "93f9c7ea-7d5e-4941-979e-aaa0b297e29f",
   "metadata": {},
   "source": [
    "### Instacart data is already preped so we will practice fixing mixed-type data by creating a small test dataframe"
   ]
  },
  {
   "cell_type": "code",
   "execution_count": 13,
   "id": "cc62c503-06d8-4339-ad0c-ed624ba0c690",
   "metadata": {},
   "outputs": [
    {
     "name": "stdout",
     "output_type": "stream",
     "text": [
      "mix\n"
     ]
    },
    {
     "name": "stderr",
     "output_type": "stream",
     "text": [
      "C:\\Users\\hp\\AppData\\Local\\Temp\\ipykernel_23900\\677183362.py:7: FutureWarning: DataFrame.applymap has been deprecated. Use DataFrame.map instead.\n",
      "  weird = (df_test[[col]].applymap(type) != df_test[[col]].iloc[0].apply(type)).any(axis = 1)\n"
     ]
    }
   ],
   "source": [
    "#Create a dataframe\n",
    "df_test = pd.DataFrame()\n",
    "#Create a mixed type column\n",
    "df_test['mix'] = ['a', 'b', 1,True]\n",
    "#Check for mixed column \n",
    "for col in df_test.columns.tolist():\n",
    "  weird = (df_test[[col]].applymap(type) != df_test[[col]].iloc[0].apply(type)).any(axis = 1)\n",
    "  if len (df_test[weird]) > 0:\n",
    "    print (col)"
   ]
  },
  {
   "cell_type": "code",
   "execution_count": 15,
   "id": "df2f4edf-157c-4cb4-a1d4-d15b1635bf48",
   "metadata": {},
   "outputs": [],
   "source": [
    "#Correction\n",
    "df_test['mix'] = df_test['mix'].astype('str')"
   ]
  },
  {
   "cell_type": "markdown",
   "id": "d5933c9a-e514-4c67-aed1-ef4690c1ae26",
   "metadata": {},
   "source": [
    "## 3.2 Missing Values "
   ]
  },
  {
   "cell_type": "code",
   "execution_count": 18,
   "id": "d2a0fcd4-e711-4fca-98ce-59c7fb055355",
   "metadata": {},
   "outputs": [
    {
     "data": {
      "text/plain": [
       "product_id        0\n",
       "product_name     16\n",
       "aisle_id          0\n",
       "department_id     0\n",
       "prices            0\n",
       "dtype: int64"
      ]
     },
     "execution_count": 18,
     "metadata": {},
     "output_type": "execute_result"
    }
   ],
   "source": [
    "#Check missing values products dataset\n",
    "df_prods.isnull().sum()"
   ]
  },
  {
   "cell_type": "markdown",
   "id": "12a8ca3c-8db0-41bf-9e2c-a3a29c95129b",
   "metadata": {},
   "source": [
    "### the only column with missing values is the \"product_name\" column, and it’s missing 16 values."
   ]
  },
  {
   "cell_type": "code",
   "execution_count": 25,
   "id": "6e23414e-9cd3-4d2f-bfec-0e3f9bfcbe26",
   "metadata": {},
   "outputs": [
    {
     "data": {
      "text/plain": [
       "(49693, 5)"
      ]
     },
     "execution_count": 25,
     "metadata": {},
     "output_type": "execute_result"
    }
   ],
   "source": [
    "#Checking the number of rows before dealing with the missing values \n",
    "df_prods.shape"
   ]
  },
  {
   "cell_type": "code",
   "execution_count": 27,
   "id": "58d032d3-ca22-4b37-a5c0-966f95714996",
   "metadata": {},
   "outputs": [
    {
     "data": {
      "text/plain": [
       "(49677, 5)"
      ]
     },
     "execution_count": 27,
     "metadata": {},
     "output_type": "execute_result"
    }
   ],
   "source": [
    "#Creating a new DataFrame df_prods_clean that contains only the rows where product_name is not null.\n",
    "df_prods_clean = df_prods[df_prods['product_name'].isnull() == False]\n",
    "\n",
    "#We could use : df_prods_clean = df_prods.dropna(subset=['product_name'])\n",
    "df_prods_clean.shape"
   ]
  },
  {
   "cell_type": "markdown",
   "id": "89618d61-347d-4c7f-8981-d0da1992d016",
   "metadata": {},
   "source": [
    "#### We have exactly 16 rows less, we excluded the missing values"
   ]
  },
  {
   "cell_type": "markdown",
   "id": "35ad12c4-f27a-4271-b8c8-499b206aa0dd",
   "metadata": {},
   "source": [
    "## 3.3 Duplicates"
   ]
  },
  {
   "cell_type": "code",
   "execution_count": 48,
   "id": "2333a664-9669-4187-95c2-03fa870d9ddd",
   "metadata": {},
   "outputs": [
    {
     "data": {
      "text/html": [
       "<div>\n",
       "<style scoped>\n",
       "    .dataframe tbody tr th:only-of-type {\n",
       "        vertical-align: middle;\n",
       "    }\n",
       "\n",
       "    .dataframe tbody tr th {\n",
       "        vertical-align: top;\n",
       "    }\n",
       "\n",
       "    .dataframe thead th {\n",
       "        text-align: right;\n",
       "    }\n",
       "</style>\n",
       "<table border=\"1\" class=\"dataframe\">\n",
       "  <thead>\n",
       "    <tr style=\"text-align: right;\">\n",
       "      <th></th>\n",
       "      <th>product_id</th>\n",
       "      <th>product_name</th>\n",
       "      <th>aisle_id</th>\n",
       "      <th>department_id</th>\n",
       "      <th>prices</th>\n",
       "    </tr>\n",
       "  </thead>\n",
       "  <tbody>\n",
       "    <tr>\n",
       "      <th>462</th>\n",
       "      <td>462</td>\n",
       "      <td>Fiber 4g Gummy Dietary Supplement</td>\n",
       "      <td>70</td>\n",
       "      <td>11</td>\n",
       "      <td>4.8</td>\n",
       "    </tr>\n",
       "    <tr>\n",
       "      <th>18459</th>\n",
       "      <td>18458</td>\n",
       "      <td>Ranger IPA</td>\n",
       "      <td>27</td>\n",
       "      <td>5</td>\n",
       "      <td>9.2</td>\n",
       "    </tr>\n",
       "    <tr>\n",
       "      <th>26810</th>\n",
       "      <td>26808</td>\n",
       "      <td>Black House Coffee Roasty Stout Beer</td>\n",
       "      <td>27</td>\n",
       "      <td>5</td>\n",
       "      <td>13.4</td>\n",
       "    </tr>\n",
       "    <tr>\n",
       "      <th>35309</th>\n",
       "      <td>35306</td>\n",
       "      <td>Gluten Free Organic Peanut Butter &amp; Chocolate ...</td>\n",
       "      <td>121</td>\n",
       "      <td>14</td>\n",
       "      <td>6.8</td>\n",
       "    </tr>\n",
       "    <tr>\n",
       "      <th>35495</th>\n",
       "      <td>35491</td>\n",
       "      <td>Adore Forever Body Wash</td>\n",
       "      <td>127</td>\n",
       "      <td>11</td>\n",
       "      <td>9.9</td>\n",
       "    </tr>\n",
       "  </tbody>\n",
       "</table>\n",
       "</div>"
      ],
      "text/plain": [
       "       product_id                                       product_name  \\\n",
       "462           462                  Fiber 4g Gummy Dietary Supplement   \n",
       "18459       18458                                         Ranger IPA   \n",
       "26810       26808               Black House Coffee Roasty Stout Beer   \n",
       "35309       35306  Gluten Free Organic Peanut Butter & Chocolate ...   \n",
       "35495       35491                            Adore Forever Body Wash   \n",
       "\n",
       "       aisle_id  department_id  prices  \n",
       "462          70             11     4.8  \n",
       "18459        27              5     9.2  \n",
       "26810        27              5    13.4  \n",
       "35309       121             14     6.8  \n",
       "35495       127             11     9.9  "
      ]
     },
     "execution_count": 48,
     "metadata": {},
     "output_type": "execute_result"
    }
   ],
   "source": [
    "# Looking for full duplicates within the df_prods_clean\n",
    "df_dups = df_prods_clean[df_prods_clean.duplicated()]\n",
    "df_dups"
   ]
  },
  {
   "cell_type": "code",
   "execution_count": 50,
   "id": "7f6e5dbc-3e16-4dd0-af60-2a5d34cac93c",
   "metadata": {},
   "outputs": [
    {
     "data": {
      "text/plain": [
       "(49672, 5)"
      ]
     },
     "execution_count": 50,
     "metadata": {},
     "output_type": "execute_result"
    }
   ],
   "source": [
    "# Adressing duplicates\n",
    "df_prods_clean_no_dups = df_prods_clean.drop_duplicates()\n",
    "df_prods_clean_no_dups.shape"
   ]
  },
  {
   "cell_type": "markdown",
   "id": "6d53dd2e-7160-4e55-8fac-341a4fe220f6",
   "metadata": {},
   "source": [
    "#### The 5 duplicates have been successfully deleted!"
   ]
  },
  {
   "cell_type": "markdown",
   "id": "e9442614-9d9c-471e-9714-1a93c841575a",
   "metadata": {},
   "source": [
    "## 3.4 Extra-check"
   ]
  },
  {
   "cell_type": "code",
   "execution_count": 143,
   "id": "713f9f43-c5da-4b0e-8ad4-f502c2dad5e3",
   "metadata": {},
   "outputs": [
    {
     "data": {
      "text/html": [
       "<div>\n",
       "<style scoped>\n",
       "    .dataframe tbody tr th:only-of-type {\n",
       "        vertical-align: middle;\n",
       "    }\n",
       "\n",
       "    .dataframe tbody tr th {\n",
       "        vertical-align: top;\n",
       "    }\n",
       "\n",
       "    .dataframe thead th {\n",
       "        text-align: right;\n",
       "    }\n",
       "</style>\n",
       "<table border=\"1\" class=\"dataframe\">\n",
       "  <thead>\n",
       "    <tr style=\"text-align: right;\">\n",
       "      <th></th>\n",
       "      <th>product_id</th>\n",
       "      <th>aisle_id</th>\n",
       "      <th>department_id</th>\n",
       "      <th>prices</th>\n",
       "    </tr>\n",
       "  </thead>\n",
       "  <tbody>\n",
       "    <tr>\n",
       "      <th>count</th>\n",
       "      <td>49672.000000</td>\n",
       "      <td>49672.000000</td>\n",
       "      <td>49672.000000</td>\n",
       "      <td>49672.000000</td>\n",
       "    </tr>\n",
       "    <tr>\n",
       "      <th>mean</th>\n",
       "      <td>24850.349775</td>\n",
       "      <td>67.762442</td>\n",
       "      <td>11.728942</td>\n",
       "      <td>9.993282</td>\n",
       "    </tr>\n",
       "    <tr>\n",
       "      <th>std</th>\n",
       "      <td>14340.705287</td>\n",
       "      <td>38.315784</td>\n",
       "      <td>5.850779</td>\n",
       "      <td>453.615536</td>\n",
       "    </tr>\n",
       "    <tr>\n",
       "      <th>min</th>\n",
       "      <td>1.000000</td>\n",
       "      <td>1.000000</td>\n",
       "      <td>1.000000</td>\n",
       "      <td>1.000000</td>\n",
       "    </tr>\n",
       "    <tr>\n",
       "      <th>25%</th>\n",
       "      <td>12432.750000</td>\n",
       "      <td>35.000000</td>\n",
       "      <td>7.000000</td>\n",
       "      <td>4.100000</td>\n",
       "    </tr>\n",
       "    <tr>\n",
       "      <th>50%</th>\n",
       "      <td>24850.500000</td>\n",
       "      <td>69.000000</td>\n",
       "      <td>13.000000</td>\n",
       "      <td>7.100000</td>\n",
       "    </tr>\n",
       "    <tr>\n",
       "      <th>75%</th>\n",
       "      <td>37268.250000</td>\n",
       "      <td>100.000000</td>\n",
       "      <td>17.000000</td>\n",
       "      <td>11.100000</td>\n",
       "    </tr>\n",
       "    <tr>\n",
       "      <th>max</th>\n",
       "      <td>49688.000000</td>\n",
       "      <td>134.000000</td>\n",
       "      <td>21.000000</td>\n",
       "      <td>99999.000000</td>\n",
       "    </tr>\n",
       "  </tbody>\n",
       "</table>\n",
       "</div>"
      ],
      "text/plain": [
       "         product_id      aisle_id  department_id        prices\n",
       "count  49672.000000  49672.000000   49672.000000  49672.000000\n",
       "mean   24850.349775     67.762442      11.728942      9.993282\n",
       "std    14340.705287     38.315784       5.850779    453.615536\n",
       "min        1.000000      1.000000       1.000000      1.000000\n",
       "25%    12432.750000     35.000000       7.000000      4.100000\n",
       "50%    24850.500000     69.000000      13.000000      7.100000\n",
       "75%    37268.250000    100.000000      17.000000     11.100000\n",
       "max    49688.000000    134.000000      21.000000  99999.000000"
      ]
     },
     "execution_count": 143,
     "metadata": {},
     "output_type": "execute_result"
    }
   ],
   "source": [
    "df_prods_clean_no_dups.describe()"
   ]
  },
  {
   "cell_type": "markdown",
   "id": "94a2f8e0-4341-45d4-a1f3-db2e446d8041",
   "metadata": {},
   "source": [
    "**-->prices: Very high variability and right-skewed distribution, indicating a few exceptionally high prices.**"
   ]
  },
  {
   "cell_type": "code",
   "execution_count": 149,
   "id": "4b4e817b-9969-4b8f-a499-0341f19a0f71",
   "metadata": {},
   "outputs": [
    {
     "name": "stdout",
     "output_type": "stream",
     "text": [
      "Outliers:\n",
      "       product_id                                       product_name  \\\n",
      "39             40  Beef Hot Links Beef Smoked Sausage With Chile ...   \n",
      "83             84                                         Lamb Shank   \n",
      "1932         1932                             Soy Chorizo Vegetarian   \n",
      "1992         1992                       Beef (101445) Summer Sausage   \n",
      "2005         2005                         Fresh Ground Turkey Breast   \n",
      "...           ...                                                ...   \n",
      "48343       48339                                      Lobster Tails   \n",
      "48592       48588                         All Natural Ground Chicken   \n",
      "48784       48780                              Olsen Pickled Herring   \n",
      "48966       48962                       Hardwood Smoked Sliced Bacon   \n",
      "49440       49436                              Imitation Crab Flakes   \n",
      "\n",
      "       aisle_id  department_id  prices  \n",
      "39          106             12    22.5  \n",
      "83            7             12    24.3  \n",
      "1932        106             12    23.8  \n",
      "1992        106             12    24.5  \n",
      "2005         35             12    22.5  \n",
      "...         ...            ...     ...  \n",
      "48343        39             12    24.9  \n",
      "48592        49             12    21.7  \n",
      "48784        39             12    22.2  \n",
      "48966       106             12    23.1  \n",
      "49440        15             12    23.5  \n",
      "\n",
      "[191 rows x 5 columns]\n",
      "Number of outliers: 191\n"
     ]
    }
   ],
   "source": [
    "# Calculate the IQR\n",
    "Q1 = df_prods_clean_no_dups['prices'].quantile(0.25)\n",
    "Q3 = df_prods_clean_no_dups['prices'].quantile(0.75)\n",
    "IQR = Q3 - Q1\n",
    "\n",
    "# Determine the bounds for outliers\n",
    "lower_bound = Q1 - 1.5 * IQR\n",
    "upper_bound = Q3 + 1.5 * IQR\n",
    "\n",
    "# Identify outliers\n",
    "outliers = df_prods_clean_no_dups[df_prods_clean_no_dups['prices'] > upper_bound]\n",
    "\n",
    "print(\"Outliers:\")\n",
    "print(outliers)\n",
    "print(f\"Number of outliers: {len(outliers)}\")\n"
   ]
  },
  {
   "cell_type": "code",
   "execution_count": 177,
   "id": "2fe42450-c1c1-477e-8126-bec7855c11d9",
   "metadata": {},
   "outputs": [
    {
     "name": "stdout",
     "output_type": "stream",
     "text": [
      "       product_id           product_name  aisle_id  department_id   prices\n",
      "33666       33664  2 % Reduced Fat  Milk        84             16  99999.0\n"
     ]
    }
   ],
   "source": [
    "#It is hard to make any decision in that case, we will investigate a bit more :\n",
    "outlier = df_prods_clean_no_dups[df_prods_clean_no_dups['prices'] == 99999]\n",
    "print(outlier)"
   ]
  },
  {
   "cell_type": "markdown",
   "id": "bae82461-5b99-4a46-a626-88ec8be702d1",
   "metadata": {},
   "source": [
    "**Clearly it is an error and not an expensive product 'Milk'?!, we can remove it..**"
   ]
  },
  {
   "cell_type": "code",
   "execution_count": 167,
   "id": "4684abab-374f-4e95-b6db-1e742b8ef673",
   "metadata": {},
   "outputs": [
    {
     "data": {
      "text/html": [
       "<div>\n",
       "<style scoped>\n",
       "    .dataframe tbody tr th:only-of-type {\n",
       "        vertical-align: middle;\n",
       "    }\n",
       "\n",
       "    .dataframe tbody tr th {\n",
       "        vertical-align: top;\n",
       "    }\n",
       "\n",
       "    .dataframe thead th {\n",
       "        text-align: right;\n",
       "    }\n",
       "</style>\n",
       "<table border=\"1\" class=\"dataframe\">\n",
       "  <thead>\n",
       "    <tr style=\"text-align: right;\">\n",
       "      <th></th>\n",
       "      <th>product_id</th>\n",
       "      <th>aisle_id</th>\n",
       "      <th>department_id</th>\n",
       "      <th>prices</th>\n",
       "    </tr>\n",
       "  </thead>\n",
       "  <tbody>\n",
       "    <tr>\n",
       "      <th>count</th>\n",
       "      <td>49671.000000</td>\n",
       "      <td>49671.000000</td>\n",
       "      <td>49671.000000</td>\n",
       "      <td>49671.000000</td>\n",
       "    </tr>\n",
       "    <tr>\n",
       "      <th>mean</th>\n",
       "      <td>24850.172334</td>\n",
       "      <td>67.762115</td>\n",
       "      <td>11.728856</td>\n",
       "      <td>7.980256</td>\n",
       "    </tr>\n",
       "    <tr>\n",
       "      <th>std</th>\n",
       "      <td>14340.795118</td>\n",
       "      <td>38.316100</td>\n",
       "      <td>5.850806</td>\n",
       "      <td>66.952504</td>\n",
       "    </tr>\n",
       "    <tr>\n",
       "      <th>min</th>\n",
       "      <td>1.000000</td>\n",
       "      <td>1.000000</td>\n",
       "      <td>1.000000</td>\n",
       "      <td>1.000000</td>\n",
       "    </tr>\n",
       "    <tr>\n",
       "      <th>25%</th>\n",
       "      <td>12432.500000</td>\n",
       "      <td>35.000000</td>\n",
       "      <td>7.000000</td>\n",
       "      <td>4.100000</td>\n",
       "    </tr>\n",
       "    <tr>\n",
       "      <th>50%</th>\n",
       "      <td>24850.000000</td>\n",
       "      <td>69.000000</td>\n",
       "      <td>13.000000</td>\n",
       "      <td>7.100000</td>\n",
       "    </tr>\n",
       "    <tr>\n",
       "      <th>75%</th>\n",
       "      <td>37268.500000</td>\n",
       "      <td>100.000000</td>\n",
       "      <td>17.000000</td>\n",
       "      <td>11.100000</td>\n",
       "    </tr>\n",
       "    <tr>\n",
       "      <th>max</th>\n",
       "      <td>49688.000000</td>\n",
       "      <td>134.000000</td>\n",
       "      <td>21.000000</td>\n",
       "      <td>14900.000000</td>\n",
       "    </tr>\n",
       "  </tbody>\n",
       "</table>\n",
       "</div>"
      ],
      "text/plain": [
       "         product_id      aisle_id  department_id        prices\n",
       "count  49671.000000  49671.000000   49671.000000  49671.000000\n",
       "mean   24850.172334     67.762115      11.728856      7.980256\n",
       "std    14340.795118     38.316100       5.850806     66.952504\n",
       "min        1.000000      1.000000       1.000000      1.000000\n",
       "25%    12432.500000     35.000000       7.000000      4.100000\n",
       "50%    24850.000000     69.000000      13.000000      7.100000\n",
       "75%    37268.500000    100.000000      17.000000     11.100000\n",
       "max    49688.000000    134.000000      21.000000  14900.000000"
      ]
     },
     "execution_count": 167,
     "metadata": {},
     "output_type": "execute_result"
    }
   ],
   "source": [
    "# Define the extreme price value\n",
    "extreme_price_value = 99999.0\n",
    "\n",
    "# Create a new DataFrame excluding the outlier\n",
    "df_prods_filtered = df_prods_clean_no_dups[df_prods_clean_no_dups['prices'] != extreme_price_value]\n",
    "\n",
    "df_prods_filtered.describe()\n"
   ]
  },
  {
   "cell_type": "code",
   "execution_count": 155,
   "id": "00f01d10-5c2f-4659-86d4-43c2c3bdbd56",
   "metadata": {},
   "outputs": [
    {
     "name": "stdout",
     "output_type": "stream",
     "text": [
      "       product_id                      product_name  aisle_id  department_id  \\\n",
      "21554       21553  Lowfat 2% Milkfat Cottage Cheese       108             16   \n",
      "\n",
      "        prices  \n",
      "21554  14900.0  \n"
     ]
    }
   ],
   "source": [
    "outlier2 = df_prods_clean_no_dups[df_prods_clean_no_dups['prices'] == 14900]\n",
    "print(outlier2)"
   ]
  },
  {
   "cell_type": "markdown",
   "id": "8f1a0b81-dc67-410a-8047-6ca0b25ba03f",
   "metadata": {},
   "source": [
    "**Is it an error too ? I can't decide it**"
   ]
  },
  {
   "cell_type": "markdown",
   "id": "7f80c073-49af-4fbe-9e6c-9c76b0c15ec1",
   "metadata": {},
   "source": [
    "# 4. Taskwork "
   ]
  },
  {
   "cell_type": "markdown",
   "id": "cd7084ba-7969-4b96-b87e-36e2c97b7a06",
   "metadata": {},
   "source": [
    "## 4.1 Checking the orders dataframe"
   ]
  },
  {
   "cell_type": "code",
   "execution_count": 70,
   "id": "f2a3b04e-f79e-4a01-9e4c-a6273cd8534a",
   "metadata": {},
   "outputs": [
    {
     "data": {
      "text/html": [
       "<div>\n",
       "<style scoped>\n",
       "    .dataframe tbody tr th:only-of-type {\n",
       "        vertical-align: middle;\n",
       "    }\n",
       "\n",
       "    .dataframe tbody tr th {\n",
       "        vertical-align: top;\n",
       "    }\n",
       "\n",
       "    .dataframe thead th {\n",
       "        text-align: right;\n",
       "    }\n",
       "</style>\n",
       "<table border=\"1\" class=\"dataframe\">\n",
       "  <thead>\n",
       "    <tr style=\"text-align: right;\">\n",
       "      <th></th>\n",
       "      <th>Unnamed: 0</th>\n",
       "      <th>order_id</th>\n",
       "      <th>user_id</th>\n",
       "      <th>order_number</th>\n",
       "      <th>order_dow</th>\n",
       "      <th>order_hour_of_day</th>\n",
       "      <th>days_since_prior_order</th>\n",
       "    </tr>\n",
       "  </thead>\n",
       "  <tbody>\n",
       "    <tr>\n",
       "      <th>count</th>\n",
       "      <td>3.421083e+06</td>\n",
       "      <td>3.421083e+06</td>\n",
       "      <td>3.421083e+06</td>\n",
       "      <td>3.421083e+06</td>\n",
       "      <td>3.421083e+06</td>\n",
       "      <td>3.421083e+06</td>\n",
       "      <td>3.214874e+06</td>\n",
       "    </tr>\n",
       "    <tr>\n",
       "      <th>mean</th>\n",
       "      <td>1.710541e+06</td>\n",
       "      <td>1.710542e+06</td>\n",
       "      <td>1.029782e+05</td>\n",
       "      <td>1.715486e+01</td>\n",
       "      <td>2.776219e+00</td>\n",
       "      <td>1.345202e+01</td>\n",
       "      <td>1.111484e+01</td>\n",
       "    </tr>\n",
       "    <tr>\n",
       "      <th>std</th>\n",
       "      <td>9.875817e+05</td>\n",
       "      <td>9.875817e+05</td>\n",
       "      <td>5.953372e+04</td>\n",
       "      <td>1.773316e+01</td>\n",
       "      <td>2.046829e+00</td>\n",
       "      <td>4.226088e+00</td>\n",
       "      <td>9.206737e+00</td>\n",
       "    </tr>\n",
       "    <tr>\n",
       "      <th>min</th>\n",
       "      <td>0.000000e+00</td>\n",
       "      <td>1.000000e+00</td>\n",
       "      <td>1.000000e+00</td>\n",
       "      <td>1.000000e+00</td>\n",
       "      <td>0.000000e+00</td>\n",
       "      <td>0.000000e+00</td>\n",
       "      <td>0.000000e+00</td>\n",
       "    </tr>\n",
       "    <tr>\n",
       "      <th>25%</th>\n",
       "      <td>8.552705e+05</td>\n",
       "      <td>8.552715e+05</td>\n",
       "      <td>5.139400e+04</td>\n",
       "      <td>5.000000e+00</td>\n",
       "      <td>1.000000e+00</td>\n",
       "      <td>1.000000e+01</td>\n",
       "      <td>4.000000e+00</td>\n",
       "    </tr>\n",
       "    <tr>\n",
       "      <th>50%</th>\n",
       "      <td>1.710541e+06</td>\n",
       "      <td>1.710542e+06</td>\n",
       "      <td>1.026890e+05</td>\n",
       "      <td>1.100000e+01</td>\n",
       "      <td>3.000000e+00</td>\n",
       "      <td>1.300000e+01</td>\n",
       "      <td>7.000000e+00</td>\n",
       "    </tr>\n",
       "    <tr>\n",
       "      <th>75%</th>\n",
       "      <td>2.565812e+06</td>\n",
       "      <td>2.565812e+06</td>\n",
       "      <td>1.543850e+05</td>\n",
       "      <td>2.300000e+01</td>\n",
       "      <td>5.000000e+00</td>\n",
       "      <td>1.600000e+01</td>\n",
       "      <td>1.500000e+01</td>\n",
       "    </tr>\n",
       "    <tr>\n",
       "      <th>max</th>\n",
       "      <td>3.421082e+06</td>\n",
       "      <td>3.421083e+06</td>\n",
       "      <td>2.062090e+05</td>\n",
       "      <td>1.000000e+02</td>\n",
       "      <td>6.000000e+00</td>\n",
       "      <td>2.300000e+01</td>\n",
       "      <td>3.000000e+01</td>\n",
       "    </tr>\n",
       "  </tbody>\n",
       "</table>\n",
       "</div>"
      ],
      "text/plain": [
       "         Unnamed: 0      order_id       user_id  order_number     order_dow  \\\n",
       "count  3.421083e+06  3.421083e+06  3.421083e+06  3.421083e+06  3.421083e+06   \n",
       "mean   1.710541e+06  1.710542e+06  1.029782e+05  1.715486e+01  2.776219e+00   \n",
       "std    9.875817e+05  9.875817e+05  5.953372e+04  1.773316e+01  2.046829e+00   \n",
       "min    0.000000e+00  1.000000e+00  1.000000e+00  1.000000e+00  0.000000e+00   \n",
       "25%    8.552705e+05  8.552715e+05  5.139400e+04  5.000000e+00  1.000000e+00   \n",
       "50%    1.710541e+06  1.710542e+06  1.026890e+05  1.100000e+01  3.000000e+00   \n",
       "75%    2.565812e+06  2.565812e+06  1.543850e+05  2.300000e+01  5.000000e+00   \n",
       "max    3.421082e+06  3.421083e+06  2.062090e+05  1.000000e+02  6.000000e+00   \n",
       "\n",
       "       order_hour_of_day  days_since_prior_order  \n",
       "count       3.421083e+06            3.214874e+06  \n",
       "mean        1.345202e+01            1.111484e+01  \n",
       "std         4.226088e+00            9.206737e+00  \n",
       "min         0.000000e+00            0.000000e+00  \n",
       "25%         1.000000e+01            4.000000e+00  \n",
       "50%         1.300000e+01            7.000000e+00  \n",
       "75%         1.600000e+01            1.500000e+01  \n",
       "max         2.300000e+01            3.000000e+01  "
      ]
     },
     "execution_count": 70,
     "metadata": {},
     "output_type": "execute_result"
    }
   ],
   "source": [
    "df_ords.describe()"
   ]
  },
  {
   "cell_type": "markdown",
   "id": "d2566081-a461-49b7-8ee2-8b956e19f5c6",
   "metadata": {},
   "source": [
    "#### Insights :\n",
    "**Unnamed:** This column doesn't hold meaningful data for analysis and could be dropped if it's just a redundant index.\n",
    "\n",
    "**order_id:** nothing seems off here.\n",
    "\n",
    "**user_id:** The user IDs range from 1 to about 2 million, which seems normal given the dataset size.\n",
    "\n",
    "**order_number:** The maximum order_number being 100 could indicate a potential cap or limit in the dataset, but it’s not necessarily an issue.\n",
    "\n",
    "**order_dow (Day of Week):** Values range from 0 to 6, which corresponds to the seven days of the week. This is consistent with expectations, and no issues are apparent here.\n",
    "\n",
    "**order_hour_of_day:** The range of values is from 0 (midnight) to 23 (11 PM), which is expected for the hour of the day. Nothing unusual is noted.\n",
    "\n",
    "**days_since_prior_order:** While most values seem reasonable, with a max of 30 days, the min being 0 could indicate consecutive orders or that some users place orders on the same day. This might be normal behavior but could warrant further exploration to ensure data accuracy.\n",
    "*--> Review days_since_prior_order: Although the min value being 0 might make sense (e.g., same-day orders), it may be worth confirming that these cases are intentional and not due to data entry errors.*"
   ]
  },
  {
   "cell_type": "markdown",
   "id": "4e3f7115-6a40-4356-8af3-aad9a6a7f8c1",
   "metadata": {},
   "source": [
    "## 4.2 Mixed-type data "
   ]
  },
  {
   "cell_type": "code",
   "execution_count": 95,
   "id": "235d9825-756a-44cf-a1be-9b4d6c1fa371",
   "metadata": {},
   "outputs": [
    {
     "name": "stdout",
     "output_type": "stream",
     "text": [
      "None of the columns have mix data\n"
     ]
    }
   ],
   "source": [
    "#Check for mixed column \n",
    "for col in df_ords.columns.tolist():\n",
    "  weird = (df_ords[[col]].map(type) != df_ords[[col]].iloc[0].apply(type)).any(axis = 1)\n",
    "  if len (df_ords[weird]) > 0:\n",
    "    print (col)\n",
    "else : print ('None of the columns have mix data')      "
   ]
  },
  {
   "cell_type": "markdown",
   "id": "7324c192-a230-41d6-8ccf-f89001ca0388",
   "metadata": {},
   "source": [
    "## 4.3 Missing Values "
   ]
  },
  {
   "cell_type": "code",
   "execution_count": 98,
   "id": "412353c1-884a-4898-8c4c-813fc554e4b0",
   "metadata": {},
   "outputs": [
    {
     "data": {
      "text/plain": [
       "Unnamed: 0                     0\n",
       "order_id                       0\n",
       "user_id                        0\n",
       "order_number                   0\n",
       "order_dow                      0\n",
       "order_hour_of_day              0\n",
       "days_since_prior_order    206209\n",
       "dtype: int64"
      ]
     },
     "execution_count": 98,
     "metadata": {},
     "output_type": "execute_result"
    }
   ],
   "source": [
    "#Check missing values orders dataset\n",
    "df_ords.isnull().sum()"
   ]
  },
  {
   "cell_type": "markdown",
   "id": "ed6b50d6-2ab1-41de-be50-a824838f23ab",
   "metadata": {},
   "source": [
    "#### The only column with missing values is the \"days_since_prior_order\" column, and it’s missing 206209 values (6%)\n",
    "The \"days_since_prior_order\" column likely represents the number of days since a user's last order. The missing values in this column could be explained by the following reasons: \n",
    "First-Time Orders:\n",
    "if a user places an order for the first time, there wouldn't be any prior data to calculate the gap in days between orders.\n"
   ]
  },
  {
   "cell_type": "markdown",
   "id": "c8de81d7-f285-48c0-8652-16d910882b89",
   "metadata": {},
   "source": [
    "### 4.3.1 Steps to Check if Missing Values Indicate First-Time Orders:"
   ]
  },
  {
   "cell_type": "code",
   "execution_count": 117,
   "id": "c6b4f44e-a6e5-46ce-881f-ed513a22eee0",
   "metadata": {},
   "outputs": [
    {
     "name": "stdout",
     "output_type": "stream",
     "text": [
      "Out of 206209 missing values in 'days_since_prior_order', 206209 are first-time orders.\n"
     ]
    }
   ],
   "source": [
    "#Identify Missing Values:\n",
    "missing_values = df_ords[df_ords['days_since_prior_order'].isnull()]\n",
    "#Check the Order Number:\n",
    "first_time_orders = missing_values[missing_values['order_number'] == 1]\n",
    "#Report Findings:\n",
    "num_first_time_orders = len(first_time_orders)\n",
    "total_missing = len(missing_values)\n",
    "print(f\"Out of {total_missing} missing values in 'days_since_prior_order', {num_first_time_orders} are first-time orders.\")\n"
   ]
  },
  {
   "cell_type": "markdown",
   "id": "5ad77777-62c2-4d9d-a527-3f7d5d3303c6",
   "metadata": {},
   "source": [
    "#### Insights:\n",
    "All 206,209 missing values in the \"days_since_prior_order\" column are from first-time orders.\n",
    "These missing values occur because there’s no previous order to compare against for these first-time orders, so the system naturally leaves this field blank."
   ]
  },
  {
   "cell_type": "markdown",
   "id": "74b14b6c-68dc-4cb8-906c-a888437accf9",
   "metadata": {},
   "source": [
    "### 4.3.2 Addressing the missing values"
   ]
  },
  {
   "cell_type": "markdown",
   "id": "7d79d446-1234-4848-aeaa-57d45a6387fb",
   "metadata": {},
   "source": [
    "Imputing with a numeric value could mislead the analysis, as it would incorrectly suggest that first-time orders have a specific time since their prior order.\n",
    "--> maintaining the integrity of the dataset, it is better to either leave them as NaN or use a specific code to indicate the absence of prior order data\n",
    "\n",
    "**--> Leaving missing values as NaN as it clearly represents missing or not applicable data.**"
   ]
  },
  {
   "cell_type": "markdown",
   "id": "3edad2f2-4adf-4b45-b156-88fe50e79c01",
   "metadata": {},
   "source": [
    "## 4.4 Duplicates "
   ]
  },
  {
   "cell_type": "code",
   "execution_count": 133,
   "id": "5a46c1ab-37e9-421b-bfed-7b34df3b04d8",
   "metadata": {},
   "outputs": [
    {
     "data": {
      "text/html": [
       "<div>\n",
       "<style scoped>\n",
       "    .dataframe tbody tr th:only-of-type {\n",
       "        vertical-align: middle;\n",
       "    }\n",
       "\n",
       "    .dataframe tbody tr th {\n",
       "        vertical-align: top;\n",
       "    }\n",
       "\n",
       "    .dataframe thead th {\n",
       "        text-align: right;\n",
       "    }\n",
       "</style>\n",
       "<table border=\"1\" class=\"dataframe\">\n",
       "  <thead>\n",
       "    <tr style=\"text-align: right;\">\n",
       "      <th></th>\n",
       "      <th>Unnamed: 0</th>\n",
       "      <th>order_id</th>\n",
       "      <th>user_id</th>\n",
       "      <th>order_number</th>\n",
       "      <th>order_dow</th>\n",
       "      <th>order_hour_of_day</th>\n",
       "      <th>days_since_prior_order</th>\n",
       "    </tr>\n",
       "  </thead>\n",
       "  <tbody>\n",
       "  </tbody>\n",
       "</table>\n",
       "</div>"
      ],
      "text/plain": [
       "Empty DataFrame\n",
       "Columns: [Unnamed: 0, order_id, user_id, order_number, order_dow, order_hour_of_day, days_since_prior_order]\n",
       "Index: []"
      ]
     },
     "execution_count": 133,
     "metadata": {},
     "output_type": "execute_result"
    }
   ],
   "source": [
    "# Looking for full duplicates within the df_prods_clean\n",
    "df_dup = df_ords[df_ords.duplicated()]\n",
    "df_dup"
   ]
  },
  {
   "cell_type": "markdown",
   "id": "e6360c20-2fe9-4091-bd58-5c587473f250",
   "metadata": {},
   "source": [
    "**The dataframe created to check duplicates has returned empty, meaning there are no duplicate**"
   ]
  },
  {
   "cell_type": "markdown",
   "id": "8802741a-7d10-4976-93d9-89adcde7f03f",
   "metadata": {},
   "source": [
    "# 5. Exporting dataframes "
   ]
  },
  {
   "cell_type": "code",
   "execution_count": 175,
   "id": "d6bb1179-43b3-47bd-9dd1-0612c3578c2e",
   "metadata": {},
   "outputs": [],
   "source": [
    "#Products dataframe:\n",
    "df_prods_filtered.to_csv(os.path.join(path,'Prepared Data', 'prods_cleaned.csv'))\n",
    "#Orders dataframe remain the same"
   ]
  }
 ],
 "metadata": {
  "kernelspec": {
   "display_name": "Python 3 (ipykernel)",
   "language": "python",
   "name": "python3"
  },
  "language_info": {
   "codemirror_mode": {
    "name": "ipython",
    "version": 3
   },
   "file_extension": ".py",
   "mimetype": "text/x-python",
   "name": "python",
   "nbconvert_exporter": "python",
   "pygments_lexer": "ipython3",
   "version": "3.12.4"
  }
 },
 "nbformat": 4,
 "nbformat_minor": 5
}

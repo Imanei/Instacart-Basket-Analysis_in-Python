{
 "cells": [
  {
   "cell_type": "code",
   "execution_count": 7,
   "id": "6ed28a17-5f3d-42a7-98eb-b9eb65ddbf25",
   "metadata": {},
   "outputs": [],
   "source": [
    "#Import libraries \n",
    "import pandas as pd\n",
    "import numpy as np\n",
    "import os\n",
    "import matplotlib.pyplot as plt\n",
    "import seaborn as sns\n",
    "import scipy"
   ]
  },
  {
   "cell_type": "markdown",
   "id": "89f036be-2e0d-4122-8af9-d10e315dc2f2",
   "metadata": {},
   "source": [
    "# 1. Importing Customer Dataset "
   ]
  },
  {
   "cell_type": "code",
   "execution_count": 9,
   "id": "1297529a-313b-44cf-903d-e79592cbe931",
   "metadata": {},
   "outputs": [],
   "source": [
    "#Import dataset \n",
    "# Project folder path \n",
    "path = r'C:\\Users\\hp\\08-2024 Instacart Basket Analysis'\n",
    "# Import customers dataset\n",
    "customer = pd.read_csv(os.path.join(path,'Data', 'Original Data', 'customers.csv'))"
   ]
  },
  {
   "cell_type": "code",
   "execution_count": 7,
   "id": "885d92b1-ed4c-43d6-972d-15528de881dd",
   "metadata": {},
   "outputs": [
    {
     "data": {
      "text/plain": [
       "(206209, 10)"
      ]
     },
     "execution_count": 7,
     "metadata": {},
     "output_type": "execute_result"
    }
   ],
   "source": [
    "customer.shape"
   ]
  },
  {
   "cell_type": "code",
   "execution_count": 9,
   "id": "224cffb8-b604-4b4f-baee-c3977b0ebc6c",
   "metadata": {},
   "outputs": [
    {
     "data": {
      "text/html": [
       "<div>\n",
       "<style scoped>\n",
       "    .dataframe tbody tr th:only-of-type {\n",
       "        vertical-align: middle;\n",
       "    }\n",
       "\n",
       "    .dataframe tbody tr th {\n",
       "        vertical-align: top;\n",
       "    }\n",
       "\n",
       "    .dataframe thead th {\n",
       "        text-align: right;\n",
       "    }\n",
       "</style>\n",
       "<table border=\"1\" class=\"dataframe\">\n",
       "  <thead>\n",
       "    <tr style=\"text-align: right;\">\n",
       "      <th></th>\n",
       "      <th>user_id</th>\n",
       "      <th>First Name</th>\n",
       "      <th>Surnam</th>\n",
       "      <th>Gender</th>\n",
       "      <th>STATE</th>\n",
       "      <th>Age</th>\n",
       "      <th>date_joined</th>\n",
       "      <th>n_dependants</th>\n",
       "      <th>fam_status</th>\n",
       "      <th>income</th>\n",
       "    </tr>\n",
       "  </thead>\n",
       "  <tbody>\n",
       "    <tr>\n",
       "      <th>0</th>\n",
       "      <td>26711</td>\n",
       "      <td>Deborah</td>\n",
       "      <td>Esquivel</td>\n",
       "      <td>Female</td>\n",
       "      <td>Missouri</td>\n",
       "      <td>48</td>\n",
       "      <td>1/1/2017</td>\n",
       "      <td>3</td>\n",
       "      <td>married</td>\n",
       "      <td>165665</td>\n",
       "    </tr>\n",
       "    <tr>\n",
       "      <th>1</th>\n",
       "      <td>33890</td>\n",
       "      <td>Patricia</td>\n",
       "      <td>Hart</td>\n",
       "      <td>Female</td>\n",
       "      <td>New Mexico</td>\n",
       "      <td>36</td>\n",
       "      <td>1/1/2017</td>\n",
       "      <td>0</td>\n",
       "      <td>single</td>\n",
       "      <td>59285</td>\n",
       "    </tr>\n",
       "    <tr>\n",
       "      <th>2</th>\n",
       "      <td>65803</td>\n",
       "      <td>Kenneth</td>\n",
       "      <td>Farley</td>\n",
       "      <td>Male</td>\n",
       "      <td>Idaho</td>\n",
       "      <td>35</td>\n",
       "      <td>1/1/2017</td>\n",
       "      <td>2</td>\n",
       "      <td>married</td>\n",
       "      <td>99568</td>\n",
       "    </tr>\n",
       "    <tr>\n",
       "      <th>3</th>\n",
       "      <td>125935</td>\n",
       "      <td>Michelle</td>\n",
       "      <td>Hicks</td>\n",
       "      <td>Female</td>\n",
       "      <td>Iowa</td>\n",
       "      <td>40</td>\n",
       "      <td>1/1/2017</td>\n",
       "      <td>0</td>\n",
       "      <td>single</td>\n",
       "      <td>42049</td>\n",
       "    </tr>\n",
       "    <tr>\n",
       "      <th>4</th>\n",
       "      <td>130797</td>\n",
       "      <td>Ann</td>\n",
       "      <td>Gilmore</td>\n",
       "      <td>Female</td>\n",
       "      <td>Maryland</td>\n",
       "      <td>26</td>\n",
       "      <td>1/1/2017</td>\n",
       "      <td>1</td>\n",
       "      <td>married</td>\n",
       "      <td>40374</td>\n",
       "    </tr>\n",
       "  </tbody>\n",
       "</table>\n",
       "</div>"
      ],
      "text/plain": [
       "   user_id First Name    Surnam  Gender       STATE  Age date_joined  \\\n",
       "0    26711    Deborah  Esquivel  Female    Missouri   48    1/1/2017   \n",
       "1    33890   Patricia      Hart  Female  New Mexico   36    1/1/2017   \n",
       "2    65803    Kenneth    Farley    Male       Idaho   35    1/1/2017   \n",
       "3   125935   Michelle     Hicks  Female        Iowa   40    1/1/2017   \n",
       "4   130797        Ann   Gilmore  Female    Maryland   26    1/1/2017   \n",
       "\n",
       "   n_dependants fam_status  income  \n",
       "0             3    married  165665  \n",
       "1             0     single   59285  \n",
       "2             2    married   99568  \n",
       "3             0     single   42049  \n",
       "4             1    married   40374  "
      ]
     },
     "execution_count": 9,
     "metadata": {},
     "output_type": "execute_result"
    }
   ],
   "source": [
    "customer.head()"
   ]
  },
  {
   "cell_type": "code",
   "execution_count": 11,
   "id": "c312ffd5-4df5-4750-a5bf-012a7c604961",
   "metadata": {},
   "outputs": [
    {
     "data": {
      "text/html": [
       "<div>\n",
       "<style scoped>\n",
       "    .dataframe tbody tr th:only-of-type {\n",
       "        vertical-align: middle;\n",
       "    }\n",
       "\n",
       "    .dataframe tbody tr th {\n",
       "        vertical-align: top;\n",
       "    }\n",
       "\n",
       "    .dataframe thead th {\n",
       "        text-align: right;\n",
       "    }\n",
       "</style>\n",
       "<table border=\"1\" class=\"dataframe\">\n",
       "  <thead>\n",
       "    <tr style=\"text-align: right;\">\n",
       "      <th></th>\n",
       "      <th>user_id</th>\n",
       "      <th>Age</th>\n",
       "      <th>n_dependants</th>\n",
       "      <th>income</th>\n",
       "    </tr>\n",
       "  </thead>\n",
       "  <tbody>\n",
       "    <tr>\n",
       "      <th>count</th>\n",
       "      <td>206209.000000</td>\n",
       "      <td>206209.000000</td>\n",
       "      <td>206209.000000</td>\n",
       "      <td>206209.000000</td>\n",
       "    </tr>\n",
       "    <tr>\n",
       "      <th>mean</th>\n",
       "      <td>103105.000000</td>\n",
       "      <td>49.501646</td>\n",
       "      <td>1.499823</td>\n",
       "      <td>94632.852548</td>\n",
       "    </tr>\n",
       "    <tr>\n",
       "      <th>std</th>\n",
       "      <td>59527.555167</td>\n",
       "      <td>18.480962</td>\n",
       "      <td>1.118433</td>\n",
       "      <td>42473.786988</td>\n",
       "    </tr>\n",
       "    <tr>\n",
       "      <th>min</th>\n",
       "      <td>1.000000</td>\n",
       "      <td>18.000000</td>\n",
       "      <td>0.000000</td>\n",
       "      <td>25903.000000</td>\n",
       "    </tr>\n",
       "    <tr>\n",
       "      <th>25%</th>\n",
       "      <td>51553.000000</td>\n",
       "      <td>33.000000</td>\n",
       "      <td>0.000000</td>\n",
       "      <td>59874.000000</td>\n",
       "    </tr>\n",
       "    <tr>\n",
       "      <th>50%</th>\n",
       "      <td>103105.000000</td>\n",
       "      <td>49.000000</td>\n",
       "      <td>1.000000</td>\n",
       "      <td>93547.000000</td>\n",
       "    </tr>\n",
       "    <tr>\n",
       "      <th>75%</th>\n",
       "      <td>154657.000000</td>\n",
       "      <td>66.000000</td>\n",
       "      <td>3.000000</td>\n",
       "      <td>124244.000000</td>\n",
       "    </tr>\n",
       "    <tr>\n",
       "      <th>max</th>\n",
       "      <td>206209.000000</td>\n",
       "      <td>81.000000</td>\n",
       "      <td>3.000000</td>\n",
       "      <td>593901.000000</td>\n",
       "    </tr>\n",
       "  </tbody>\n",
       "</table>\n",
       "</div>"
      ],
      "text/plain": [
       "             user_id            Age   n_dependants         income\n",
       "count  206209.000000  206209.000000  206209.000000  206209.000000\n",
       "mean   103105.000000      49.501646       1.499823   94632.852548\n",
       "std     59527.555167      18.480962       1.118433   42473.786988\n",
       "min         1.000000      18.000000       0.000000   25903.000000\n",
       "25%     51553.000000      33.000000       0.000000   59874.000000\n",
       "50%    103105.000000      49.000000       1.000000   93547.000000\n",
       "75%    154657.000000      66.000000       3.000000  124244.000000\n",
       "max    206209.000000      81.000000       3.000000  593901.000000"
      ]
     },
     "execution_count": 11,
     "metadata": {},
     "output_type": "execute_result"
    }
   ],
   "source": [
    "customer.describe()"
   ]
  },
  {
   "cell_type": "code",
   "execution_count": 15,
   "id": "40724e5b-7ac4-42db-968c-c0641df80f9d",
   "metadata": {},
   "outputs": [
    {
     "data": {
      "text/plain": [
       "user_id          int64\n",
       "First Name      object\n",
       "Surnam          object\n",
       "Gender          object\n",
       "STATE           object\n",
       "Age              int64\n",
       "date_joined     object\n",
       "n_dependants     int64\n",
       "fam_status      object\n",
       "income           int64\n",
       "dtype: object"
      ]
     },
     "execution_count": 15,
     "metadata": {},
     "output_type": "execute_result"
    }
   ],
   "source": [
    "customer.dtypes"
   ]
  },
  {
   "cell_type": "markdown",
   "id": "a12365f5-f3a9-427d-89d4-8671d60dec02",
   "metadata": {},
   "source": [
    "## 1.1 Data Wrangling "
   ]
  },
  {
   "cell_type": "code",
   "execution_count": 27,
   "id": "d8bee971-b581-468a-8f7b-26f753cb6e42",
   "metadata": {},
   "outputs": [],
   "source": [
    "# Renaming columns\n",
    "customer = customer.rename(columns={ \n",
    "    'First Name' : 'First_Name',\n",
    "    'Surnam' : 'Last_Name', \n",
    "    'STATE' : 'State', \n",
    "    'date_joined' : 'Date_Joined', \n",
    "    'n_dependants' : 'Number_of_Dependents', \n",
    "    'fam_status' : 'Family Status', \n",
    "    'income' : 'Income'})"
   ]
  },
  {
   "cell_type": "code",
   "execution_count": 29,
   "id": "7a52d774-2968-47b2-8c36-705df80b2579",
   "metadata": {},
   "outputs": [
    {
     "data": {
      "text/html": [
       "<div>\n",
       "<style scoped>\n",
       "    .dataframe tbody tr th:only-of-type {\n",
       "        vertical-align: middle;\n",
       "    }\n",
       "\n",
       "    .dataframe tbody tr th {\n",
       "        vertical-align: top;\n",
       "    }\n",
       "\n",
       "    .dataframe thead th {\n",
       "        text-align: right;\n",
       "    }\n",
       "</style>\n",
       "<table border=\"1\" class=\"dataframe\">\n",
       "  <thead>\n",
       "    <tr style=\"text-align: right;\">\n",
       "      <th></th>\n",
       "      <th>user_id</th>\n",
       "      <th>First_Name</th>\n",
       "      <th>Last_Name</th>\n",
       "      <th>Gender</th>\n",
       "      <th>State</th>\n",
       "      <th>Age</th>\n",
       "      <th>Date_Joined</th>\n",
       "      <th>Number_of_Dependents</th>\n",
       "      <th>Family Status</th>\n",
       "      <th>Income</th>\n",
       "    </tr>\n",
       "  </thead>\n",
       "  <tbody>\n",
       "    <tr>\n",
       "      <th>0</th>\n",
       "      <td>26711</td>\n",
       "      <td>Deborah</td>\n",
       "      <td>Esquivel</td>\n",
       "      <td>Female</td>\n",
       "      <td>Missouri</td>\n",
       "      <td>48</td>\n",
       "      <td>1/1/2017</td>\n",
       "      <td>3</td>\n",
       "      <td>married</td>\n",
       "      <td>165665</td>\n",
       "    </tr>\n",
       "    <tr>\n",
       "      <th>1</th>\n",
       "      <td>33890</td>\n",
       "      <td>Patricia</td>\n",
       "      <td>Hart</td>\n",
       "      <td>Female</td>\n",
       "      <td>New Mexico</td>\n",
       "      <td>36</td>\n",
       "      <td>1/1/2017</td>\n",
       "      <td>0</td>\n",
       "      <td>single</td>\n",
       "      <td>59285</td>\n",
       "    </tr>\n",
       "    <tr>\n",
       "      <th>2</th>\n",
       "      <td>65803</td>\n",
       "      <td>Kenneth</td>\n",
       "      <td>Farley</td>\n",
       "      <td>Male</td>\n",
       "      <td>Idaho</td>\n",
       "      <td>35</td>\n",
       "      <td>1/1/2017</td>\n",
       "      <td>2</td>\n",
       "      <td>married</td>\n",
       "      <td>99568</td>\n",
       "    </tr>\n",
       "    <tr>\n",
       "      <th>3</th>\n",
       "      <td>125935</td>\n",
       "      <td>Michelle</td>\n",
       "      <td>Hicks</td>\n",
       "      <td>Female</td>\n",
       "      <td>Iowa</td>\n",
       "      <td>40</td>\n",
       "      <td>1/1/2017</td>\n",
       "      <td>0</td>\n",
       "      <td>single</td>\n",
       "      <td>42049</td>\n",
       "    </tr>\n",
       "    <tr>\n",
       "      <th>4</th>\n",
       "      <td>130797</td>\n",
       "      <td>Ann</td>\n",
       "      <td>Gilmore</td>\n",
       "      <td>Female</td>\n",
       "      <td>Maryland</td>\n",
       "      <td>26</td>\n",
       "      <td>1/1/2017</td>\n",
       "      <td>1</td>\n",
       "      <td>married</td>\n",
       "      <td>40374</td>\n",
       "    </tr>\n",
       "  </tbody>\n",
       "</table>\n",
       "</div>"
      ],
      "text/plain": [
       "   user_id First_Name Last_Name  Gender       State  Age Date_Joined  \\\n",
       "0    26711    Deborah  Esquivel  Female    Missouri   48    1/1/2017   \n",
       "1    33890   Patricia      Hart  Female  New Mexico   36    1/1/2017   \n",
       "2    65803    Kenneth    Farley    Male       Idaho   35    1/1/2017   \n",
       "3   125935   Michelle     Hicks  Female        Iowa   40    1/1/2017   \n",
       "4   130797        Ann   Gilmore  Female    Maryland   26    1/1/2017   \n",
       "\n",
       "   Number_of_Dependents Family Status  Income  \n",
       "0                     3       married  165665  \n",
       "1                     0        single   59285  \n",
       "2                     2       married   99568  \n",
       "3                     0        single   42049  \n",
       "4                     1       married   40374  "
      ]
     },
     "execution_count": 29,
     "metadata": {},
     "output_type": "execute_result"
    }
   ],
   "source": [
    "customer.head()"
   ]
  },
  {
   "cell_type": "code",
   "execution_count": 31,
   "id": "f8a1254e-f316-4ef1-b682-c2de48369f2f",
   "metadata": {},
   "outputs": [],
   "source": [
    "# Convert `user_id` to string \n",
    "customer['user_id'] = customer['user_id'].astype(str)"
   ]
  },
  {
   "cell_type": "markdown",
   "id": "e37b8bf4-97b4-4ab3-9709-9bb8e4846325",
   "metadata": {},
   "source": [
    "## 1.2. Mixed Column "
   ]
  },
  {
   "cell_type": "code",
   "execution_count": 29,
   "id": "64d0f04f-b423-488a-bdf3-ac377ff1d29e",
   "metadata": {},
   "outputs": [
    {
     "name": "stdout",
     "output_type": "stream",
     "text": [
      "First_Name\n"
     ]
    }
   ],
   "source": [
    "#Check for mixed column \n",
    "for col in customer.columns.tolist():\n",
    "  weird = (customer[[col]].map(type) != customer[[col]].iloc[0].apply(type)).any(axis = 1)\n",
    "  if len (customer[weird]) > 0:\n",
    "    print (col)"
   ]
  },
  {
   "cell_type": "markdown",
   "id": "3ccd810f-8ef6-400c-a485-be0f6af7d7be",
   "metadata": {},
   "source": [
    "#### Insights : \n",
    "The fact that First_Name is printed means that it contains elements of different data types."
   ]
  },
  {
   "cell_type": "code",
   "execution_count": 34,
   "id": "5f63c71e-a771-45e9-9764-e2f4ddf87257",
   "metadata": {},
   "outputs": [
    {
     "ename": "AttributeError",
     "evalue": "'str' object has no attribute 'apply'",
     "output_type": "error",
     "traceback": [
      "\u001b[1;31m---------------------------------------------------------------------------\u001b[0m",
      "\u001b[1;31mAttributeError\u001b[0m                            Traceback (most recent call last)",
      "Cell \u001b[1;32mIn[34], line 2\u001b[0m\n\u001b[0;32m      1\u001b[0m \u001b[38;5;66;03m#Identify the Problematic Entries:\u001b[39;00m\n\u001b[1;32m----> 2\u001b[0m weird2 \u001b[38;5;241m=\u001b[39m (customer[\u001b[38;5;124m'\u001b[39m\u001b[38;5;124mFirst_Name\u001b[39m\u001b[38;5;124m'\u001b[39m]\u001b[38;5;241m.\u001b[39mmap(\u001b[38;5;28mtype\u001b[39m) \u001b[38;5;241m!=\u001b[39m customer[\u001b[38;5;124m'\u001b[39m\u001b[38;5;124mFirst_Name\u001b[39m\u001b[38;5;124m'\u001b[39m]\u001b[38;5;241m.\u001b[39miloc[\u001b[38;5;241m0\u001b[39m]\u001b[38;5;241m.\u001b[39mapply(\u001b[38;5;28mtype\u001b[39m))\n\u001b[0;32m      3\u001b[0m \u001b[38;5;28mprint\u001b[39m(customer[weird])\n",
      "\u001b[1;31mAttributeError\u001b[0m: 'str' object has no attribute 'apply'"
     ]
    }
   ],
   "source": [
    "#Identify the Problematic Entries:\n",
    "weird2 = (customer['First_Name'].map(type) != customer['First_Name'].iloc[0].apply(type))\n",
    "print(customer[weird])"
   ]
  },
  {
   "cell_type": "code",
   "execution_count": 36,
   "id": "b50ebd83-1f68-4fc0-a43d-db70e9a751c0",
   "metadata": {},
   "outputs": [],
   "source": [
    "first_type = type(customer['First_Name'].iloc[0])"
   ]
  },
  {
   "cell_type": "code",
   "execution_count": 38,
   "id": "5142543b-0391-4a1d-8255-d757072f5911",
   "metadata": {},
   "outputs": [],
   "source": [
    "weird = customer['First_Name'].map(type) != first_type"
   ]
  },
  {
   "cell_type": "code",
   "execution_count": 40,
   "id": "c1b455b4-89dc-4790-a07b-4fafcbd32c94",
   "metadata": {},
   "outputs": [
    {
     "name": "stdout",
     "output_type": "stream",
     "text": [
      "       user_id First_Name Last_Name  Gender         State  Age Date_Joined  \\\n",
      "53       76659        NaN   Gilbert    Male      Colorado   26    1/1/2017   \n",
      "73       13738        NaN     Frost  Female     Louisiana   39    1/1/2017   \n",
      "82       89996        NaN    Dawson  Female        Oregon   52    1/1/2017   \n",
      "99       96166        NaN   Oconnor    Male      Oklahoma   51    1/1/2017   \n",
      "105      29778        NaN    Dawson  Female          Utah   63    1/1/2017   \n",
      "...        ...        ...       ...     ...           ...  ...         ...   \n",
      "206038  121317        NaN    Melton    Male  Pennsylvania   28   3/31/2020   \n",
      "206044  200799        NaN  Copeland  Female        Hawaii   52    4/1/2020   \n",
      "206090  167394        NaN     Frost  Female        Hawaii   61    4/1/2020   \n",
      "206162  187532        NaN     Floyd  Female    California   39    4/1/2020   \n",
      "206171  116898        NaN   Delgado  Female      Colorado   23    4/1/2020   \n",
      "\n",
      "        Number_of_Dependents Family Status  Income  \n",
      "53                         2       married   41709  \n",
      "73                         0        single   82518  \n",
      "82                         3       married  117099  \n",
      "99                         1       married  155673  \n",
      "105                        3       married  151819  \n",
      "...                      ...           ...     ...  \n",
      "206038                     3       married   87783  \n",
      "206044                     2       married  108488  \n",
      "206090                     1       married   45275  \n",
      "206162                     0        single   56325  \n",
      "206171                     2       married   59222  \n",
      "\n",
      "[11259 rows x 10 columns]\n"
     ]
    }
   ],
   "source": [
    "print(customer[weird])"
   ]
  },
  {
   "cell_type": "markdown",
   "id": "645aa9ad-b21c-43de-b1b2-4b97abb95df4",
   "metadata": {},
   "source": [
    "##### Mostlikely, it is about missing values. NaN (Not a Number) is not considered a string (str).\n",
    "We need further investigations "
   ]
  },
  {
   "cell_type": "markdown",
   "id": "0a08ff43-f49a-47ea-b31f-0582623dd200",
   "metadata": {},
   "source": [
    "# 1.3 Missing Values"
   ]
  },
  {
   "cell_type": "code",
   "execution_count": 43,
   "id": "fa223273-155f-44ac-a98f-79663fee75d0",
   "metadata": {},
   "outputs": [
    {
     "data": {
      "text/plain": [
       "user_id                     0\n",
       "First_Name              11259\n",
       "Last_Name                   0\n",
       "Gender                      0\n",
       "State                       0\n",
       "Age                         0\n",
       "Date_Joined                 0\n",
       "Number_of_Dependents        0\n",
       "Family Status               0\n",
       "Income                      0\n",
       "dtype: int64"
      ]
     },
     "execution_count": 43,
     "metadata": {},
     "output_type": "execute_result"
    }
   ],
   "source": [
    "# finding missing values\n",
    "missing_values = customer.isnull().sum()\n",
    "missing_values"
   ]
  },
  {
   "cell_type": "markdown",
   "id": "fb971b19-f6d2-4e38-b7f0-b7dfc724af88",
   "metadata": {},
   "source": [
    "#### the only column with missing values is the \"First_Name\" column, and it’s missing 11259 values.\n",
    "We have user_id and Last_Name informations, so I will not change the data for now. "
   ]
  },
  {
   "cell_type": "markdown",
   "id": "e39294da-490d-4f8c-b4dc-64aebadc7ef7",
   "metadata": {},
   "source": [
    "# 1.4. Duplicates"
   ]
  },
  {
   "cell_type": "code",
   "execution_count": 52,
   "id": "c98c6888-5bd8-43c5-ac5b-90f1279da19a",
   "metadata": {},
   "outputs": [
    {
     "data": {
      "text/html": [
       "<div>\n",
       "<style scoped>\n",
       "    .dataframe tbody tr th:only-of-type {\n",
       "        vertical-align: middle;\n",
       "    }\n",
       "\n",
       "    .dataframe tbody tr th {\n",
       "        vertical-align: top;\n",
       "    }\n",
       "\n",
       "    .dataframe thead th {\n",
       "        text-align: right;\n",
       "    }\n",
       "</style>\n",
       "<table border=\"1\" class=\"dataframe\">\n",
       "  <thead>\n",
       "    <tr style=\"text-align: right;\">\n",
       "      <th></th>\n",
       "      <th>user_id</th>\n",
       "      <th>First_Name</th>\n",
       "      <th>Last_Name</th>\n",
       "      <th>Gender</th>\n",
       "      <th>State</th>\n",
       "      <th>Age</th>\n",
       "      <th>Date_Joined</th>\n",
       "      <th>Number_of_Dependents</th>\n",
       "      <th>Family Status</th>\n",
       "      <th>Income</th>\n",
       "    </tr>\n",
       "  </thead>\n",
       "  <tbody>\n",
       "  </tbody>\n",
       "</table>\n",
       "</div>"
      ],
      "text/plain": [
       "Empty DataFrame\n",
       "Columns: [user_id, First_Name, Last_Name, Gender, State, Age, Date_Joined, Number_of_Dependents, Family Status, Income]\n",
       "Index: []"
      ]
     },
     "execution_count": 52,
     "metadata": {},
     "output_type": "execute_result"
    }
   ],
   "source": [
    "# Looking for full duplicates\n",
    "customer_dups = customer[customer.duplicated()]\n",
    "customer_dups"
   ]
  },
  {
   "cell_type": "code",
   "execution_count": 54,
   "id": "5406416e-75d2-4fbc-9e7a-5c948ba1f479",
   "metadata": {},
   "outputs": [],
   "source": [
    "# Find duplicate rows based on specific columns\n",
    "duplicates = customer[customer.duplicated(subset=['First_Name', 'Last_Name'])]"
   ]
  },
  {
   "cell_type": "markdown",
   "id": "ff2e57fa-8195-48e1-a7ad-5ec47eb8f479",
   "metadata": {},
   "source": [
    "#### No duplicates found. "
   ]
  },
  {
   "cell_type": "markdown",
   "id": "63f6126a-a891-4568-b1c7-d5cea0be7ff3",
   "metadata": {},
   "source": [
    "# 2. Combining Dataframes"
   ]
  },
  {
   "cell_type": "code",
   "execution_count": 11,
   "id": "77bb738d-0601-426e-b942-2d5ac288b994",
   "metadata": {},
   "outputs": [],
   "source": [
    "#Importing dataframe\n",
    "ords_prods_merge = pd.read_pickle(os.path.join(path,'Data', 'Prepared Data', 'ords_prods_aggregated.pkl'))"
   ]
  },
  {
   "cell_type": "code",
   "execution_count": 35,
   "id": "9eed6f9c-e8d6-430a-a734-523b27ada7ca",
   "metadata": {},
   "outputs": [],
   "source": [
    "# Convert `user_id` to string \n",
    "ords_prods_merge['user_id'] = ords_prods_merge['user_id'].astype(str)"
   ]
  },
  {
   "cell_type": "markdown",
   "id": "e64c0edb-f8eb-4d42-80e4-57e6c9faeee7",
   "metadata": {},
   "source": [
    "### I encountered a significant issue when attempting to merge the two datasets, as I ran into a memory error. To resolve this, I decided to switch browsers and optimize the data types in the datasets before performing the merge"
   ]
  },
  {
   "cell_type": "code",
   "execution_count": 71,
   "id": "0e42eb9e-3614-4803-8ed1-da57c23a8537",
   "metadata": {},
   "outputs": [
    {
     "data": {
      "text/plain": [
       "product_id                   int64\n",
       "product_name                object\n",
       "aisle_id                     int64\n",
       "department_id                int64\n",
       "prices                     float64\n",
       "order_id                     int64\n",
       "user_id                     object\n",
       "order_number                 int64\n",
       "order_dow                    int64\n",
       "order_hour_of_day            int64\n",
       "days_since_prior_order     float64\n",
       "add_to_cart_order            int64\n",
       "reordered                    int64\n",
       "_merge                    category\n",
       "price_range_loc             object\n",
       "busiest day                 object\n",
       "busiest days                object\n",
       "busiest_period_of_day       object\n",
       "max_order                    int64\n",
       "loyalty_flag                object\n",
       "average_spend              float64\n",
       "spender_flag                object\n",
       "Customer_frequency         float64\n",
       "frequency_flag              object\n",
       "dtype: object"
      ]
     },
     "execution_count": 71,
     "metadata": {},
     "output_type": "execute_result"
    }
   ],
   "source": [
    "ords_prods_merge.dtypes"
   ]
  },
  {
   "cell_type": "code",
   "execution_count": 62,
   "id": "87dfda4d-064c-4baa-9f59-6f17ad6d74c1",
   "metadata": {
    "scrolled": true
   },
   "outputs": [],
   "source": [
    "pd.set_option('display.max_columns', None)"
   ]
  },
  {
   "cell_type": "code",
   "execution_count": null,
   "id": "1549c0da-1c10-4aa9-9ff6-8360545582d4",
   "metadata": {},
   "outputs": [],
   "source": [
    "# Drop the '_merge' column\n",
    "ords_prods_merge = ords_prods_merge.drop(columns=['_merge'])"
   ]
  },
  {
   "cell_type": "code",
   "execution_count": 13,
   "id": "f04ad126-731e-419b-a76b-7be8bd3ee183",
   "metadata": {},
   "outputs": [],
   "source": [
    "# 1. Convert all 'object' and 'category' columns to 'category' dtype\n",
    "ords_prods_merge[ords_prods_merge.select_dtypes(include=['object', 'category']).columns] = ords_prods_merge.select_dtypes(include=['object', 'category']).apply(lambda x: x.astype('category'))\n",
    "\n",
    "# 2. Convert 'int64' columns to 'int32' if within range\n",
    "ords_prods_merge[ords_prods_merge.select_dtypes(include=['int64']).columns] = ords_prods_merge.select_dtypes(include=['int64']).apply(lambda x: x.astype('int32') if x.min() > np.iinfo(np.int32).min and x.max() < np.iinfo(np.int32).max else x)\n",
    "\n",
    "# 3. Convert all 'float64' columns to 'float32'\n",
    "ords_prods_merge[ords_prods_merge.select_dtypes(include=['float64']).columns] = ords_prods_merge.select_dtypes(include=['float64']).astype('float32')"
   ]
  },
  {
   "cell_type": "code",
   "execution_count": 64,
   "id": "ecb5c2ea-bebc-4f8a-8ca4-b4f62c69ff68",
   "metadata": {},
   "outputs": [
    {
     "data": {
      "text/plain": [
       "product_id                   int32\n",
       "product_name              category\n",
       "aisle_id                     int32\n",
       "department_id                int32\n",
       "prices                     float32\n",
       "order_id                     int32\n",
       "user_id                     object\n",
       "order_number                 int32\n",
       "order_dow                    int32\n",
       "order_hour_of_day            int32\n",
       "days_since_prior_order     float32\n",
       "add_to_cart_order            int32\n",
       "reordered                    int32\n",
       "price_range_loc           category\n",
       "busiest day               category\n",
       "busiest days              category\n",
       "busiest_period_of_day     category\n",
       "max_order                    int32\n",
       "loyalty_flag              category\n",
       "average_spend              float32\n",
       "spender_flag              category\n",
       "Customer_frequency         float32\n",
       "frequency_flag            category\n",
       "dtype: object"
      ]
     },
     "execution_count": 64,
     "metadata": {},
     "output_type": "execute_result"
    }
   ],
   "source": [
    "#Verifying the changes \n",
    "ords_prods_merge.dtypes"
   ]
  },
  {
   "cell_type": "markdown",
   "id": "3eba17a8-a199-4284-b062-687e9fec77e4",
   "metadata": {},
   "source": [
    "### Combining 'Customers' and 'orders products merge' datasets "
   ]
  },
  {
   "cell_type": "code",
   "execution_count": 39,
   "id": "252f99ce-f0ee-41ba-aaec-fed846000341",
   "metadata": {},
   "outputs": [],
   "source": [
    "#Combining datasets \n",
    "df_merged = customer.merge(ords_prods_merge, on = 'user_id', indicator = True)"
   ]
  },
  {
   "cell_type": "code",
   "execution_count": 41,
   "id": "3bbef14d-c762-4aa1-af63-75f4a25e0335",
   "metadata": {},
   "outputs": [
    {
     "data": {
      "text/html": [
       "<div>\n",
       "<style scoped>\n",
       "    .dataframe tbody tr th:only-of-type {\n",
       "        vertical-align: middle;\n",
       "    }\n",
       "\n",
       "    .dataframe tbody tr th {\n",
       "        vertical-align: top;\n",
       "    }\n",
       "\n",
       "    .dataframe thead th {\n",
       "        text-align: right;\n",
       "    }\n",
       "</style>\n",
       "<table border=\"1\" class=\"dataframe\">\n",
       "  <thead>\n",
       "    <tr style=\"text-align: right;\">\n",
       "      <th></th>\n",
       "      <th>user_id</th>\n",
       "      <th>First_Name</th>\n",
       "      <th>Last_Name</th>\n",
       "      <th>Gender</th>\n",
       "      <th>State</th>\n",
       "      <th>Age</th>\n",
       "      <th>Date_Joined</th>\n",
       "      <th>Number_of_Dependents</th>\n",
       "      <th>Family Status</th>\n",
       "      <th>Income</th>\n",
       "      <th>...</th>\n",
       "      <th>busiest day</th>\n",
       "      <th>busiest days</th>\n",
       "      <th>busiest_period_of_day</th>\n",
       "      <th>max_order</th>\n",
       "      <th>loyalty_flag</th>\n",
       "      <th>average_spend</th>\n",
       "      <th>spender_flag</th>\n",
       "      <th>Customer_frequency</th>\n",
       "      <th>frequency_flag</th>\n",
       "      <th>_merge</th>\n",
       "    </tr>\n",
       "  </thead>\n",
       "  <tbody>\n",
       "    <tr>\n",
       "      <th>0</th>\n",
       "      <td>26711</td>\n",
       "      <td>Deborah</td>\n",
       "      <td>Esquivel</td>\n",
       "      <td>Female</td>\n",
       "      <td>Missouri</td>\n",
       "      <td>48</td>\n",
       "      <td>1/1/2017</td>\n",
       "      <td>3</td>\n",
       "      <td>married</td>\n",
       "      <td>165665</td>\n",
       "      <td>...</td>\n",
       "      <td>Regularly busy</td>\n",
       "      <td>Busiest days</td>\n",
       "      <td>Average orders</td>\n",
       "      <td>8</td>\n",
       "      <td>New customer</td>\n",
       "      <td>7.988889</td>\n",
       "      <td>Low_spender</td>\n",
       "      <td>19.0</td>\n",
       "      <td>Regular customer</td>\n",
       "      <td>both</td>\n",
       "    </tr>\n",
       "    <tr>\n",
       "      <th>1</th>\n",
       "      <td>26711</td>\n",
       "      <td>Deborah</td>\n",
       "      <td>Esquivel</td>\n",
       "      <td>Female</td>\n",
       "      <td>Missouri</td>\n",
       "      <td>48</td>\n",
       "      <td>1/1/2017</td>\n",
       "      <td>3</td>\n",
       "      <td>married</td>\n",
       "      <td>165665</td>\n",
       "      <td>...</td>\n",
       "      <td>Regularly busy</td>\n",
       "      <td>Regularly busy</td>\n",
       "      <td>Most orders</td>\n",
       "      <td>8</td>\n",
       "      <td>New customer</td>\n",
       "      <td>7.988889</td>\n",
       "      <td>Low_spender</td>\n",
       "      <td>19.0</td>\n",
       "      <td>Regular customer</td>\n",
       "      <td>both</td>\n",
       "    </tr>\n",
       "    <tr>\n",
       "      <th>2</th>\n",
       "      <td>26711</td>\n",
       "      <td>Deborah</td>\n",
       "      <td>Esquivel</td>\n",
       "      <td>Female</td>\n",
       "      <td>Missouri</td>\n",
       "      <td>48</td>\n",
       "      <td>1/1/2017</td>\n",
       "      <td>3</td>\n",
       "      <td>married</td>\n",
       "      <td>165665</td>\n",
       "      <td>...</td>\n",
       "      <td>Regularly busy</td>\n",
       "      <td>Busiest days</td>\n",
       "      <td>Most orders</td>\n",
       "      <td>8</td>\n",
       "      <td>New customer</td>\n",
       "      <td>7.988889</td>\n",
       "      <td>Low_spender</td>\n",
       "      <td>19.0</td>\n",
       "      <td>Regular customer</td>\n",
       "      <td>both</td>\n",
       "    </tr>\n",
       "    <tr>\n",
       "      <th>3</th>\n",
       "      <td>26711</td>\n",
       "      <td>Deborah</td>\n",
       "      <td>Esquivel</td>\n",
       "      <td>Female</td>\n",
       "      <td>Missouri</td>\n",
       "      <td>48</td>\n",
       "      <td>1/1/2017</td>\n",
       "      <td>3</td>\n",
       "      <td>married</td>\n",
       "      <td>165665</td>\n",
       "      <td>...</td>\n",
       "      <td>Regularly busy</td>\n",
       "      <td>Regularly busy</td>\n",
       "      <td>Average orders</td>\n",
       "      <td>8</td>\n",
       "      <td>New customer</td>\n",
       "      <td>7.988889</td>\n",
       "      <td>Low_spender</td>\n",
       "      <td>19.0</td>\n",
       "      <td>Regular customer</td>\n",
       "      <td>both</td>\n",
       "    </tr>\n",
       "    <tr>\n",
       "      <th>4</th>\n",
       "      <td>26711</td>\n",
       "      <td>Deborah</td>\n",
       "      <td>Esquivel</td>\n",
       "      <td>Female</td>\n",
       "      <td>Missouri</td>\n",
       "      <td>48</td>\n",
       "      <td>1/1/2017</td>\n",
       "      <td>3</td>\n",
       "      <td>married</td>\n",
       "      <td>165665</td>\n",
       "      <td>...</td>\n",
       "      <td>Regularly busy</td>\n",
       "      <td>Slowest days</td>\n",
       "      <td>Most orders</td>\n",
       "      <td>8</td>\n",
       "      <td>New customer</td>\n",
       "      <td>7.988889</td>\n",
       "      <td>Low_spender</td>\n",
       "      <td>19.0</td>\n",
       "      <td>Regular customer</td>\n",
       "      <td>both</td>\n",
       "    </tr>\n",
       "  </tbody>\n",
       "</table>\n",
       "<p>5 rows × 33 columns</p>\n",
       "</div>"
      ],
      "text/plain": [
       "  user_id First_Name Last_Name  Gender     State  Age Date_Joined  \\\n",
       "0   26711    Deborah  Esquivel  Female  Missouri   48    1/1/2017   \n",
       "1   26711    Deborah  Esquivel  Female  Missouri   48    1/1/2017   \n",
       "2   26711    Deborah  Esquivel  Female  Missouri   48    1/1/2017   \n",
       "3   26711    Deborah  Esquivel  Female  Missouri   48    1/1/2017   \n",
       "4   26711    Deborah  Esquivel  Female  Missouri   48    1/1/2017   \n",
       "\n",
       "   Number_of_Dependents Family Status  Income  ...     busiest day  \\\n",
       "0                     3       married  165665  ...  Regularly busy   \n",
       "1                     3       married  165665  ...  Regularly busy   \n",
       "2                     3       married  165665  ...  Regularly busy   \n",
       "3                     3       married  165665  ...  Regularly busy   \n",
       "4                     3       married  165665  ...  Regularly busy   \n",
       "\n",
       "     busiest days  busiest_period_of_day  max_order  loyalty_flag  \\\n",
       "0    Busiest days         Average orders          8  New customer   \n",
       "1  Regularly busy            Most orders          8  New customer   \n",
       "2    Busiest days            Most orders          8  New customer   \n",
       "3  Regularly busy         Average orders          8  New customer   \n",
       "4    Slowest days            Most orders          8  New customer   \n",
       "\n",
       "   average_spend  spender_flag  Customer_frequency    frequency_flag  _merge  \n",
       "0       7.988889   Low_spender                19.0  Regular customer    both  \n",
       "1       7.988889   Low_spender                19.0  Regular customer    both  \n",
       "2       7.988889   Low_spender                19.0  Regular customer    both  \n",
       "3       7.988889   Low_spender                19.0  Regular customer    both  \n",
       "4       7.988889   Low_spender                19.0  Regular customer    both  \n",
       "\n",
       "[5 rows x 33 columns]"
      ]
     },
     "execution_count": 41,
     "metadata": {},
     "output_type": "execute_result"
    }
   ],
   "source": [
    "df_merged.head()"
   ]
  },
  {
   "cell_type": "code",
   "execution_count": 44,
   "id": "62c75735-ccf9-447b-b60f-4b208dc6a93e",
   "metadata": {},
   "outputs": [
    {
     "data": {
      "text/plain": [
       "(32404161, 33)"
      ]
     },
     "execution_count": 44,
     "metadata": {},
     "output_type": "execute_result"
    }
   ],
   "source": [
    "df_merged.shape"
   ]
  },
  {
   "cell_type": "markdown",
   "id": "28d1c197-8c73-44dd-95ff-b5f02ff41a5f",
   "metadata": {},
   "source": [
    "# 3. Exporting dataset "
   ]
  },
  {
   "cell_type": "code",
   "execution_count": 68,
   "id": "ac87a03d-aad7-4a33-a661-c5ad7f893c9d",
   "metadata": {},
   "outputs": [],
   "source": [
    "#exporting as a pickle\n",
    "df_merged.to_pickle(os.path.join(path, 'Data','Prepared Data', 'ords_prods_cust_merge.pkl'))"
   ]
  },
  {
   "cell_type": "code",
   "execution_count": null,
   "id": "ef2c5ef8-1a7e-4e92-b0ef-b9eeca050d87",
   "metadata": {},
   "outputs": [],
   "source": []
  }
 ],
 "metadata": {
  "kernelspec": {
   "display_name": "Python 3 (ipykernel)",
   "language": "python",
   "name": "python3"
  },
  "language_info": {
   "codemirror_mode": {
    "name": "ipython",
    "version": 3
   },
   "file_extension": ".py",
   "mimetype": "text/x-python",
   "name": "python",
   "nbconvert_exporter": "python",
   "pygments_lexer": "ipython3",
   "version": "3.12.4"
  }
 },
 "nbformat": 4,
 "nbformat_minor": 5
}
